{
 "cells": [
  {
   "cell_type": "markdown",
   "id": "58e15342",
   "metadata": {},
   "source": [
    "# import process"
   ]
  },
  {
   "cell_type": "code",
   "execution_count": 1,
   "id": "bb048f99",
   "metadata": {},
   "outputs": [],
   "source": [
    "import numpy as np\n",
    "import pandas as pd\n",
    "import matplotlib.pyplot as plt\n",
    "%matplotlib inline\n",
    "import scipy\n",
    "import seaborn as sns"
   ]
  },
  {
   "cell_type": "code",
   "execution_count": 2,
   "id": "f474b36c",
   "metadata": {},
   "outputs": [],
   "source": [
    "scout_car = pd.read_json (\"scout_car.json\", lines = True)"
   ]
  },
  {
   "cell_type": "code",
   "execution_count": 3,
   "id": "5d68c067",
   "metadata": {},
   "outputs": [],
   "source": [
    "df = scout_car.copy()"
   ]
  },
  {
   "cell_type": "code",
   "execution_count": 4,
   "id": "0e3ab6a1",
   "metadata": {},
   "outputs": [],
   "source": [
    "yedek = df"
   ]
  },
  {
   "cell_type": "markdown",
   "id": "c9708a4a",
   "metadata": {},
   "source": [
    "# rename all columns"
   ]
  },
  {
   "cell_type": "code",
   "execution_count": null,
   "id": "97ce533a",
   "metadata": {},
   "outputs": [],
   "source": [
    "#rename columns example\n",
    "df.rename(columns = {'kW':'kw',\n",
    "                     'Type':'type',\n",
    "                     'Previous Owners':'previous_owners',\n",
    "                     'Next Inspection':'next_inspection',\n",
    "                     'Inspection new':'inspection_new',\n",
    "                     'Warranty':'warranty',\n",
    "                     'Full Service':'full_service',\n",
    "                     'Non-smoking Vehicle':'non_smoking_vehicle',\n",
    "                     'Make':'make',\n",
    "                     'Model':'model',\n",
    "                     'Offer Number':'offer_number',\n",
    "                     'First Registration':'first_registration',\n",
    "                     'Body Color':'body_color',\n",
    "                     'Paint Type':'paint_type',\n",
    "                     'Body Color Original':'body_color_original',\n",
    "                     'Upholstery':'upholstery',\n",
    "                     'Body':'body',\n",
    "                     'Nr. of Doors':'nr_of_doors',\n",
    "                     'Nr. of Seats':'nr_of_seats',\n",
    "                     'Model Code':'model_code',\n",
    "                     'Gearing Type':'gearing_type',\n",
    "                     'Displacement':'displacement',\n",
    "                     'Cylinders':'cylinders',\n",
    "                     'Weight':'weight',\n",
    "                     'Drive chain':'drive_chain',\n",
    "                     'Fuel':'fuel',\n",
    "                     'Consumption':'consumption',\n",
    "                     'CO2 Emission':'co2_emission',\n",
    "                     'Emission Class':'emission_class',\n",
    "                     '\\nComfort & Convenience\\n':'comfort_convenience',\n",
    "                     '\\nEntertainment & Media\\n':'entertainment_media',\n",
    "                     '\\nExtras\\n':'extras',\n",
    "                     '\\nSafety & Security\\n':'safety_security',\n",
    "                     'Emission Label':'emission_label',\n",
    "                     'Gears':'gears',\n",
    "                     'Country version':'country_version',\n",
    "                     'Electricity consumption':'electricity_consumption',\n",
    "                     'Last Service Date':'last_service_date',\n",
    "                     'Other Fuel Types':'other_fuel_types',\n",
    "                     'Availability':'availability',\n",
    "                     'Last Timing Belt Service Date':'last_timing_belt_servide_date',\n",
    "                     'Available from':'available_from'}, inplace = True)"
   ]
  },
  {
   "cell_type": "markdown",
   "id": "cfb1ea68",
   "metadata": {},
   "source": [
    "# url"
   ]
  },
  {
   "cell_type": "code",
   "execution_count": null,
   "id": "489f7120",
   "metadata": {},
   "outputs": [],
   "source": []
  },
  {
   "cell_type": "code",
   "execution_count": null,
   "id": "2549336b",
   "metadata": {},
   "outputs": [],
   "source": []
  },
  {
   "cell_type": "markdown",
   "id": "30ead690",
   "metadata": {},
   "source": [
    "# make_model"
   ]
  },
  {
   "cell_type": "code",
   "execution_count": null,
   "id": "76edb47d",
   "metadata": {},
   "outputs": [],
   "source": [
    "df['make_model']"
   ]
  },
  {
   "cell_type": "code",
   "execution_count": null,
   "id": "dff98e91",
   "metadata": {},
   "outputs": [],
   "source": []
  },
  {
   "cell_type": "code",
   "execution_count": null,
   "id": "2f24ef37",
   "metadata": {},
   "outputs": [],
   "source": []
  },
  {
   "cell_type": "code",
   "execution_count": null,
   "id": "9261e91d",
   "metadata": {},
   "outputs": [],
   "source": []
  },
  {
   "cell_type": "code",
   "execution_count": null,
   "id": "40e6d0e2",
   "metadata": {},
   "outputs": [],
   "source": []
  },
  {
   "cell_type": "code",
   "execution_count": null,
   "id": "fb9a902e",
   "metadata": {},
   "outputs": [],
   "source": []
  },
  {
   "cell_type": "markdown",
   "id": "0234fdae",
   "metadata": {},
   "source": [
    "# short_description"
   ]
  },
  {
   "cell_type": "code",
   "execution_count": null,
   "id": "e7019798",
   "metadata": {},
   "outputs": [],
   "source": []
  },
  {
   "cell_type": "code",
   "execution_count": null,
   "id": "f979007a",
   "metadata": {},
   "outputs": [],
   "source": []
  },
  {
   "cell_type": "markdown",
   "id": "5c07e4ba",
   "metadata": {},
   "source": [
    "# body_type"
   ]
  },
  {
   "cell_type": "code",
   "execution_count": null,
   "id": "52e32309",
   "metadata": {},
   "outputs": [],
   "source": [
    "df['body_type']"
   ]
  },
  {
   "cell_type": "code",
   "execution_count": null,
   "id": "a236e4bf",
   "metadata": {},
   "outputs": [],
   "source": []
  },
  {
   "cell_type": "code",
   "execution_count": null,
   "id": "476eaa5a",
   "metadata": {},
   "outputs": [],
   "source": []
  },
  {
   "cell_type": "code",
   "execution_count": null,
   "id": "58c83c39",
   "metadata": {},
   "outputs": [],
   "source": []
  },
  {
   "cell_type": "code",
   "execution_count": null,
   "id": "17da734f",
   "metadata": {},
   "outputs": [],
   "source": []
  },
  {
   "cell_type": "code",
   "execution_count": null,
   "id": "afd256b0",
   "metadata": {},
   "outputs": [],
   "source": []
  },
  {
   "cell_type": "markdown",
   "id": "12ac7944",
   "metadata": {},
   "source": [
    "# price"
   ]
  },
  {
   "cell_type": "code",
   "execution_count": null,
   "id": "c883774a",
   "metadata": {},
   "outputs": [],
   "source": [
    "df.price.sort_values().head(10)"
   ]
  },
  {
   "cell_type": "code",
   "execution_count": null,
   "id": "1928aa18",
   "metadata": {},
   "outputs": [],
   "source": [
    "price_count.sort_index().head(10)\n",
    "# 4950 altındaki değerler şüpheli"
   ]
  },
  {
   "cell_type": "code",
   "execution_count": null,
   "id": "c67814d7",
   "metadata": {},
   "outputs": [],
   "source": [
    "price_count.sort_index(ascending=False).head(10)\n",
    "# üst değerler yüksek model (limuzin gibi) olduğundan normal"
   ]
  },
  {
   "cell_type": "code",
   "execution_count": null,
   "id": "8fe391c6",
   "metadata": {},
   "outputs": [],
   "source": [
    "# 8594       13     8828      120       6066      255       8829      331"
   ]
  },
  {
   "cell_type": "code",
   "execution_count": null,
   "id": "b213937b",
   "metadata": {},
   "outputs": [],
   "source": [
    "# df.iloc[[8594]]    # Opel Corsa\t1.4 (ecoFLEX)\n",
    "# df.iloc[[8828]]   # Opel Corsa\t1.0 Turbo 120 Jaar\n",
    "# df.iloc[[6066]]   # Opel Astra\t1.6 D (CDTI) Start/Stop Sports Tourer Business\tStation wagon\n",
    "# df.iloc[[8829]]     # Opel Corsa\tCorsa1.0 Turbo 90"
   ]
  },
  {
   "cell_type": "code",
   "execution_count": null,
   "id": "06cc3fa2",
   "metadata": {},
   "outputs": [],
   "source": [
    "df.iloc[[8594]] = scout_car.iloc[[8594]]\n",
    "# bu satıra yanlış değerleri doldurunca tekrar orjinalini almak için bu satırı yazdım"
   ]
  },
  {
   "cell_type": "code",
   "execution_count": null,
   "id": "d930c9ab",
   "metadata": {},
   "outputs": [],
   "source": [
    "df.price.isnull().sum()"
   ]
  },
  {
   "cell_type": "code",
   "execution_count": null,
   "id": "40406256",
   "metadata": {},
   "outputs": [],
   "source": [
    "df.iloc[[8594, 8828, 6066, 8829]]     "
   ]
  },
  {
   "cell_type": "code",
   "execution_count": null,
   "id": "e4240948",
   "metadata": {},
   "outputs": [],
   "source": [
    "df.iloc[8829].price = df[df[\"make_model\"]==\"Opel Corsa\"][\"price\"].mode()[0]\n",
    "#nan yapmış olduğum değerleri manuel olarak doldurdum. fillna ile yapamadım."
   ]
  },
  {
   "cell_type": "code",
   "execution_count": null,
   "id": "0020ea0f",
   "metadata": {},
   "outputs": [],
   "source": [
    "df.iloc[8829].price\n",
    "# nan yapmış olduğum değerleri doldurduğumu test ettim"
   ]
  },
  {
   "cell_type": "code",
   "execution_count": null,
   "id": "b397c9d3",
   "metadata": {},
   "outputs": [],
   "source": [
    "# pahalı araçlara bir bakalım. null sayıları ipuçları ile örtüşüyor ama uç minimum değerler var.\n",
    "# 3587     64900\n",
    "# 15828    64332\n",
    "# 3649     67600\n",
    "# 15826    68320\n",
    "# 3648     74600"
   ]
  },
  {
   "cell_type": "code",
   "execution_count": null,
   "id": "86650db9",
   "metadata": {},
   "outputs": [],
   "source": [
    "df.iloc[[3648, 15826, 3649, 3587, 15828]]"
   ]
  },
  {
   "cell_type": "code",
   "execution_count": null,
   "id": "96cf3e18",
   "metadata": {},
   "outputs": [],
   "source": [
    "# Renault Espace Initiale Paris model araçların avrupa fiyatlarını kontrol ettim, benzer km.ler bu fiyat.\n",
    "# Yani bu araç fiyatları değerlendirmede kalmalı."
   ]
  },
  {
   "cell_type": "code",
   "execution_count": null,
   "id": "26422e15",
   "metadata": {},
   "outputs": [],
   "source": [
    "df.price.dtype"
   ]
  },
  {
   "cell_type": "code",
   "execution_count": null,
   "id": "c7e8b5cd",
   "metadata": {},
   "outputs": [],
   "source": []
  },
  {
   "cell_type": "code",
   "execution_count": null,
   "id": "6fa30aa7",
   "metadata": {},
   "outputs": [],
   "source": []
  },
  {
   "cell_type": "markdown",
   "id": "fb2dd8f4",
   "metadata": {},
   "source": [
    "# vat "
   ]
  },
  {
   "cell_type": "code",
   "execution_count": null,
   "id": "569577a6",
   "metadata": {},
   "outputs": [],
   "source": [
    "df.vat.unique()"
   ]
  },
  {
   "cell_type": "code",
   "execution_count": null,
   "id": "ae84654c",
   "metadata": {},
   "outputs": [],
   "source": [
    "df.vat.isnull().sum()"
   ]
  },
  {
   "cell_type": "code",
   "execution_count": null,
   "id": "9a8358c2",
   "metadata": {},
   "outputs": [],
   "source": [
    "# vat'ları olduğu gibi bırakıyorum. birlikte de incelemiştik. değerler mantıklı.\n",
    "# ayrıca ipuçları ile örtüşüyor. sütun ismi uygun. None olması normal."
   ]
  },
  {
   "cell_type": "code",
   "execution_count": null,
   "id": "f57d6d40",
   "metadata": {},
   "outputs": [],
   "source": []
  },
  {
   "cell_type": "code",
   "execution_count": null,
   "id": "7bccc03a",
   "metadata": {},
   "outputs": [],
   "source": []
  },
  {
   "cell_type": "markdown",
   "id": "2c4759d5",
   "metadata": {},
   "source": [
    "# km"
   ]
  },
  {
   "cell_type": "code",
   "execution_count": null,
   "id": "00732b92",
   "metadata": {},
   "outputs": [],
   "source": [
    "df.km = df.km.str.strip(\"\\\"\").str.rstrip(\"km\").str.replace(\",\", \"\").str.replace(\"-\", \"0\").astype(int)"
   ]
  },
  {
   "cell_type": "code",
   "execution_count": null,
   "id": "afc29de0",
   "metadata": {},
   "outputs": [],
   "source": []
  },
  {
   "cell_type": "markdown",
   "id": "0b8497db",
   "metadata": {},
   "source": [
    "# registration"
   ]
  },
  {
   "cell_type": "code",
   "execution_count": null,
   "id": "98484657",
   "metadata": {},
   "outputs": [],
   "source": [
    "#split into two parts and got index 1\n",
    "df.registration = df.registration.str.split(\"/\").str[1]"
   ]
  },
  {
   "cell_type": "code",
   "execution_count": null,
   "id": "80b19311",
   "metadata": {},
   "outputs": [],
   "source": [
    "df.registration.value_counts()"
   ]
  },
  {
   "cell_type": "code",
   "execution_count": null,
   "id": "c1360857",
   "metadata": {},
   "outputs": [],
   "source": [
    "#changed registration years as age by replace method\n",
    "df.registration = df.registration.str.replace(\"2019\",\"0\").str.replace(\"2018\",\"1\").str.replace(\"2017\",\"2\").str.replace(\"2016\",\"3\")"
   ]
  },
  {
   "cell_type": "code",
   "execution_count": null,
   "id": "b32ddaa2",
   "metadata": {},
   "outputs": [],
   "source": []
  },
  {
   "cell_type": "code",
   "execution_count": null,
   "id": "d7832d89",
   "metadata": {},
   "outputs": [],
   "source": [
    "df.registration.value_counts()"
   ]
  },
  {
   "cell_type": "code",
   "execution_count": null,
   "id": "bea67b98",
   "metadata": {},
   "outputs": [],
   "source": []
  },
  {
   "cell_type": "code",
   "execution_count": null,
   "id": "42596a3c",
   "metadata": {},
   "outputs": [],
   "source": []
  },
  {
   "cell_type": "markdown",
   "id": "611f6bbb",
   "metadata": {},
   "source": [
    "# prev_owner"
   ]
  },
  {
   "cell_type": "code",
   "execution_count": null,
   "id": "34b319aa",
   "metadata": {},
   "outputs": [],
   "source": [
    "df.prev_owner.value_counts(dropna=False)"
   ]
  },
  {
   "cell_type": "code",
   "execution_count": null,
   "id": "3cf14a5d",
   "metadata": {},
   "outputs": [],
   "source": [
    "df.prev_owner=df.prev_owner.str.extract(\"(\\d)\")\n",
    "df.prev_owner"
   ]
  },
  {
   "cell_type": "code",
   "execution_count": null,
   "id": "4314f11f",
   "metadata": {},
   "outputs": [],
   "source": [
    "df.prev_owner.value_counts(dropna=False)"
   ]
  },
  {
   "cell_type": "code",
   "execution_count": null,
   "id": "479bf5b7",
   "metadata": {},
   "outputs": [],
   "source": []
  },
  {
   "cell_type": "code",
   "execution_count": null,
   "id": "cb456ea2",
   "metadata": {},
   "outputs": [],
   "source": []
  },
  {
   "cell_type": "code",
   "execution_count": null,
   "id": "0486f6b0",
   "metadata": {},
   "outputs": [],
   "source": []
  },
  {
   "cell_type": "markdown",
   "id": "9524eadd",
   "metadata": {},
   "source": [
    "# kW"
   ]
  },
  {
   "cell_type": "code",
   "execution_count": null,
   "id": "e0ce8005",
   "metadata": {},
   "outputs": [],
   "source": []
  },
  {
   "cell_type": "code",
   "execution_count": null,
   "id": "1640f509",
   "metadata": {},
   "outputs": [],
   "source": []
  },
  {
   "cell_type": "markdown",
   "id": "f3b235a0",
   "metadata": {},
   "source": [
    "# hp"
   ]
  },
  {
   "cell_type": "code",
   "execution_count": null,
   "id": "afbb170b",
   "metadata": {},
   "outputs": [],
   "source": [
    "df['hp'].str.extract('(\\d{1,3})').value_counts(dropna=False)"
   ]
  },
  {
   "cell_type": "code",
   "execution_count": null,
   "id": "00835846",
   "metadata": {},
   "outputs": [],
   "source": []
  },
  {
   "cell_type": "code",
   "execution_count": null,
   "id": "54118c85",
   "metadata": {},
   "outputs": [],
   "source": []
  },
  {
   "cell_type": "markdown",
   "id": "ab88820f",
   "metadata": {},
   "source": [
    "# Type"
   ]
  },
  {
   "cell_type": "code",
   "execution_count": null,
   "id": "70ae5562",
   "metadata": {},
   "outputs": [],
   "source": [
    "df.type = df.type.apply(lambda item: \",\".join(item) if type(item) == list else item).str.lstrip(\",\").str.split(',,').str[0]"
   ]
  },
  {
   "cell_type": "code",
   "execution_count": null,
   "id": "7757dca5",
   "metadata": {},
   "outputs": [],
   "source": []
  },
  {
   "cell_type": "code",
   "execution_count": null,
   "id": "d0f58280",
   "metadata": {},
   "outputs": [],
   "source": []
  },
  {
   "cell_type": "markdown",
   "id": "535f4248",
   "metadata": {},
   "source": [
    "# Previous Owners"
   ]
  },
  {
   "cell_type": "code",
   "execution_count": null,
   "id": "3bfc5f12",
   "metadata": {},
   "outputs": [],
   "source": [
    "df[\"previous_owners\"]"
   ]
  },
  {
   "cell_type": "code",
   "execution_count": null,
   "id": "1af3343a",
   "metadata": {},
   "outputs": [],
   "source": [
    "df[\"previous_owners\"]=[item[0] if type(item)==list else item for item in df[\"previous_owners\"]]\n",
    "df[\"previous_owners\"]"
   ]
  },
  {
   "cell_type": "code",
   "execution_count": null,
   "id": "850759ff",
   "metadata": {},
   "outputs": [],
   "source": [
    "df[\"previous_owners\"]=df[\"previous_owners\"].str.extract(\"(\\d)\")\n",
    "df[\"previous_owners\"]"
   ]
  },
  {
   "cell_type": "code",
   "execution_count": null,
   "id": "24ae371e",
   "metadata": {},
   "outputs": [],
   "source": [
    "df[\"previous_owners\"].value_counts(dropna=False)"
   ]
  },
  {
   "cell_type": "code",
   "execution_count": null,
   "id": "2f347ade",
   "metadata": {},
   "outputs": [],
   "source": [
    "df[[\"prev_owner\",\"previous_owners\"]]"
   ]
  },
  {
   "cell_type": "code",
   "execution_count": null,
   "id": "a3165f9c",
   "metadata": {},
   "outputs": [],
   "source": []
  },
  {
   "cell_type": "code",
   "execution_count": null,
   "id": "6783c05d",
   "metadata": {},
   "outputs": [],
   "source": []
  },
  {
   "cell_type": "markdown",
   "id": "765d9b61",
   "metadata": {},
   "source": [
    "# Next Inspection"
   ]
  },
  {
   "cell_type": "code",
   "execution_count": null,
   "id": "0e79a6f7",
   "metadata": {},
   "outputs": [],
   "source": [
    "df['next_inspection'] = df['next_inspection'].apply(lambda item: \",\".join(item) if type(item) == list else item).str.lstrip(\"\\n\").str.split(',').str[0].str.rstrip(\"\\n\")"
   ]
  },
  {
   "cell_type": "code",
   "execution_count": null,
   "id": "aeb2a1ae",
   "metadata": {},
   "outputs": [],
   "source": []
  },
  {
   "cell_type": "code",
   "execution_count": null,
   "id": "cbad45fe",
   "metadata": {},
   "outputs": [],
   "source": []
  },
  {
   "cell_type": "markdown",
   "id": "78a87870",
   "metadata": {},
   "source": [
    "# Inspection new"
   ]
  },
  {
   "cell_type": "code",
   "execution_count": null,
   "id": "bdc796f5",
   "metadata": {},
   "outputs": [],
   "source": [
    "df['inspection_new'] = df['inspection_new'].apply(lambda item: \",\".join(item) if type(item) == list else item).str.lstrip(\"\\n\").str.split(',').str[0].str.rstrip(\"\\n\")"
   ]
  },
  {
   "cell_type": "code",
   "execution_count": null,
   "id": "2c27325e",
   "metadata": {},
   "outputs": [],
   "source": []
  },
  {
   "cell_type": "code",
   "execution_count": null,
   "id": "e5051fe1",
   "metadata": {},
   "outputs": [],
   "source": []
  },
  {
   "cell_type": "markdown",
   "id": "8e558601",
   "metadata": {},
   "source": [
    "# Warranty"
   ]
  },
  {
   "cell_type": "code",
   "execution_count": null,
   "id": "d8366064",
   "metadata": {},
   "outputs": [],
   "source": [
    "df['warranty']"
   ]
  },
  {
   "cell_type": "code",
   "execution_count": null,
   "id": "d8cf0ec9",
   "metadata": {},
   "outputs": [],
   "source": [
    "df.rename(columns = {'warranty':'warranty_months'}, inplace = True)"
   ]
  },
  {
   "cell_type": "code",
   "execution_count": null,
   "id": "76d4f4df",
   "metadata": {},
   "outputs": [],
   "source": [
    "df.warranty.isnull().sum()"
   ]
  },
  {
   "cell_type": "code",
   "execution_count": null,
   "id": "35c80fb7",
   "metadata": {},
   "outputs": [],
   "source": [
    "df.warranty.head(30)"
   ]
  },
  {
   "cell_type": "code",
   "execution_count": null,
   "id": "953fe0f8",
   "metadata": {},
   "outputs": [],
   "source": [
    "df.warranty.str.extract('(\\d\\d months|\\d months)').head(30)"
   ]
  },
  {
   "cell_type": "code",
   "execution_count": null,
   "id": "56a72d4f",
   "metadata": {},
   "outputs": [],
   "source": [
    "df.warranty.str.extract('(months)').count()\n",
    "# içinde sadece months yazanları saydırdım"
   ]
  },
  {
   "cell_type": "code",
   "execution_count": null,
   "id": "7c784ee9",
   "metadata": {},
   "outputs": [],
   "source": [
    "df.warranty.str.extract('(\\d\\d months|\\d months)').count()\n",
    "# yanında rakam yazan monthsları saydırdım"
   ]
  },
  {
   "cell_type": "code",
   "execution_count": null,
   "id": "234eaedf",
   "metadata": {},
   "outputs": [],
   "source": [
    "# df.warranty = df.warranty.str.extract('(\\d\\d months|\\d months)')\n",
    "# bu monthlar ile birlikte çıkarıyor"
   ]
  },
  {
   "cell_type": "code",
   "execution_count": null,
   "id": "8abb860a",
   "metadata": {},
   "outputs": [],
   "source": [
    "df.warranty = df.warranty.str.extract('(\\d\\d | \\d)')\n",
    "# sadece rakamları çıkardım  "
   ]
  },
  {
   "cell_type": "code",
   "execution_count": null,
   "id": "3bdaf267",
   "metadata": {},
   "outputs": [],
   "source": [
    "df.warranty"
   ]
  },
  {
   "cell_type": "code",
   "execution_count": null,
   "id": "232a02bb",
   "metadata": {},
   "outputs": [],
   "source": [
    "df.warranty.value_counts(dropna=False)\n",
    "# çok sayıda nan değeri var ama her aracın garantisi olmak zorunda değil"
   ]
  },
  {
   "cell_type": "code",
   "execution_count": null,
   "id": "1a0067b9",
   "metadata": {},
   "outputs": [],
   "source": [
    "# silinecek iki sütunum vardı\n",
    "# drop_columns  = ['Last Service Date', 'Last Timing Belt Service Date']\n",
    "# df.drop(drop_columns, axis=1, inplace=True)"
   ]
  },
  {
   "cell_type": "code",
   "execution_count": null,
   "id": "152c8b79",
   "metadata": {},
   "outputs": [],
   "source": []
  },
  {
   "cell_type": "code",
   "execution_count": null,
   "id": "67cf9434",
   "metadata": {},
   "outputs": [],
   "source": []
  },
  {
   "cell_type": "markdown",
   "id": "7f85e8ca",
   "metadata": {},
   "source": [
    "# Full Service"
   ]
  },
  {
   "cell_type": "code",
   "execution_count": null,
   "id": "cab348fb",
   "metadata": {},
   "outputs": [],
   "source": [
    "df['full_service'].apply(lambda item: \",\".join(item) if type(item) == list else item)"
   ]
  },
  {
   "cell_type": "code",
   "execution_count": null,
   "id": "2c90998e",
   "metadata": {},
   "outputs": [],
   "source": []
  },
  {
   "cell_type": "code",
   "execution_count": null,
   "id": "5e6c257d",
   "metadata": {},
   "outputs": [],
   "source": []
  },
  {
   "cell_type": "markdown",
   "id": "72fd8265",
   "metadata": {},
   "source": [
    "# Non-smoking Vehicle"
   ]
  },
  {
   "cell_type": "code",
   "execution_count": null,
   "id": "d02c0943",
   "metadata": {},
   "outputs": [],
   "source": [
    "df[\"non_smoking_vehicle\"].apply(lambda item: \",\".join(item) if type(item) == list else item)"
   ]
  },
  {
   "cell_type": "code",
   "execution_count": null,
   "id": "e73a654f",
   "metadata": {},
   "outputs": [],
   "source": []
  },
  {
   "cell_type": "code",
   "execution_count": null,
   "id": "06ac419a",
   "metadata": {},
   "outputs": [],
   "source": []
  },
  {
   "cell_type": "markdown",
   "id": "112207ca",
   "metadata": {},
   "source": [
    "# null"
   ]
  },
  {
   "cell_type": "code",
   "execution_count": null,
   "id": "e258f726",
   "metadata": {},
   "outputs": [],
   "source": [
    "df['null'].apply(lambda item: \",\".join(item) if type(item) == list else item)"
   ]
  },
  {
   "cell_type": "code",
   "execution_count": null,
   "id": "aa1d449e",
   "metadata": {},
   "outputs": [],
   "source": []
  },
  {
   "cell_type": "code",
   "execution_count": null,
   "id": "7e747263",
   "metadata": {},
   "outputs": [],
   "source": []
  },
  {
   "cell_type": "markdown",
   "id": "f29d7455",
   "metadata": {},
   "source": [
    "# Make"
   ]
  },
  {
   "cell_type": "code",
   "execution_count": null,
   "id": "5d87b8d0",
   "metadata": {},
   "outputs": [],
   "source": [
    "df['make'] = df.make.str.strip('\\n')"
   ]
  },
  {
   "cell_type": "code",
   "execution_count": null,
   "id": "d1a01c60",
   "metadata": {},
   "outputs": [],
   "source": [
    "df['make'].astype(str)"
   ]
  },
  {
   "cell_type": "code",
   "execution_count": null,
   "id": "29b54e67",
   "metadata": {},
   "outputs": [],
   "source": []
  },
  {
   "cell_type": "code",
   "execution_count": null,
   "id": "189f31d8",
   "metadata": {},
   "outputs": [],
   "source": []
  },
  {
   "cell_type": "markdown",
   "id": "1a2a7b6d",
   "metadata": {},
   "source": [
    "# Model"
   ]
  },
  {
   "cell_type": "code",
   "execution_count": null,
   "id": "da2e6d6c",
   "metadata": {},
   "outputs": [],
   "source": [
    "df[\"model\"]=[item[1] if type(item)==list else item for item in df[\"model\"]]"
   ]
  },
  {
   "cell_type": "code",
   "execution_count": null,
   "id": "8bd9de1a",
   "metadata": {},
   "outputs": [],
   "source": []
  },
  {
   "cell_type": "code",
   "execution_count": null,
   "id": "a776b8c7",
   "metadata": {},
   "outputs": [],
   "source": []
  },
  {
   "cell_type": "markdown",
   "id": "65d1c4fd",
   "metadata": {},
   "source": [
    "# Offer Number"
   ]
  },
  {
   "cell_type": "code",
   "execution_count": null,
   "id": "42ffa22e",
   "metadata": {},
   "outputs": [],
   "source": [
    "#dropped unnecessary column\n",
    "df.drop('offer_number', inplace=True, axis=1)"
   ]
  },
  {
   "cell_type": "code",
   "execution_count": null,
   "id": "af659ed6",
   "metadata": {},
   "outputs": [],
   "source": []
  },
  {
   "cell_type": "code",
   "execution_count": null,
   "id": "55497b2f",
   "metadata": {},
   "outputs": [],
   "source": []
  },
  {
   "cell_type": "markdown",
   "id": "9fc6fdec",
   "metadata": {},
   "source": [
    "# First Registration"
   ]
  },
  {
   "cell_type": "code",
   "execution_count": null,
   "id": "27313494",
   "metadata": {},
   "outputs": [],
   "source": [
    "#dropped unnecessary column 2\n",
    "df.drop('first_registration', inplace=True, axis=1)"
   ]
  },
  {
   "cell_type": "code",
   "execution_count": null,
   "id": "e37b87fb",
   "metadata": {},
   "outputs": [],
   "source": []
  },
  {
   "cell_type": "code",
   "execution_count": null,
   "id": "c241ba19",
   "metadata": {},
   "outputs": [],
   "source": []
  },
  {
   "cell_type": "markdown",
   "id": "321f4938",
   "metadata": {},
   "source": [
    "# Body Color"
   ]
  },
  {
   "cell_type": "code",
   "execution_count": null,
   "id": "8793a943",
   "metadata": {},
   "outputs": [],
   "source": [
    "df[\"body_color\"]=[item[1] if type(item)==list else item for item in df[\"body_color\"]]"
   ]
  },
  {
   "cell_type": "code",
   "execution_count": null,
   "id": "a4ce320c",
   "metadata": {},
   "outputs": [],
   "source": []
  },
  {
   "cell_type": "code",
   "execution_count": null,
   "id": "550d18b9",
   "metadata": {},
   "outputs": [],
   "source": []
  },
  {
   "cell_type": "markdown",
   "id": "d8a065b5",
   "metadata": {},
   "source": [
    "# Paint Type"
   ]
  },
  {
   "cell_type": "code",
   "execution_count": null,
   "id": "f952bc10",
   "metadata": {},
   "outputs": [],
   "source": [
    "df[\"paint_type\"]=[item[0] if type(item)==list else item for item in df[\"paint_type\"]]"
   ]
  },
  {
   "cell_type": "code",
   "execution_count": null,
   "id": "aca4149b",
   "metadata": {},
   "outputs": [],
   "source": [
    "df[\"paint_type\"]=df[\"paint_type\"]=df[\"paint_type\"].replace('\\n', \"\", regex=True)"
   ]
  },
  {
   "cell_type": "code",
   "execution_count": null,
   "id": "c22857fc",
   "metadata": {},
   "outputs": [],
   "source": []
  },
  {
   "cell_type": "code",
   "execution_count": null,
   "id": "d33f8d40",
   "metadata": {},
   "outputs": [],
   "source": []
  },
  {
   "cell_type": "markdown",
   "id": "43f6ec51",
   "metadata": {},
   "source": [
    "# Body Color Original"
   ]
  },
  {
   "cell_type": "code",
   "execution_count": null,
   "id": "15ed9de1",
   "metadata": {},
   "outputs": [],
   "source": []
  },
  {
   "cell_type": "code",
   "execution_count": null,
   "id": "91c2bc33",
   "metadata": {},
   "outputs": [],
   "source": []
  },
  {
   "cell_type": "markdown",
   "id": "85b7503d",
   "metadata": {},
   "source": [
    "# Upholstery"
   ]
  },
  {
   "cell_type": "code",
   "execution_count": null,
   "id": "c05322a7",
   "metadata": {},
   "outputs": [],
   "source": []
  },
  {
   "cell_type": "code",
   "execution_count": null,
   "id": "2e837580",
   "metadata": {},
   "outputs": [],
   "source": []
  },
  {
   "cell_type": "markdown",
   "id": "0abb5ff6",
   "metadata": {},
   "source": [
    "# Body"
   ]
  },
  {
   "cell_type": "code",
   "execution_count": null,
   "id": "a03dfe03",
   "metadata": {},
   "outputs": [],
   "source": [
    "df[\"body\"]=[item[1] if type(item)==list else item for item in df[\"body\"]]"
   ]
  },
  {
   "cell_type": "code",
   "execution_count": null,
   "id": "8573633d",
   "metadata": {},
   "outputs": [],
   "source": [
    "df[\"body\"].apply(str)"
   ]
  },
  {
   "cell_type": "code",
   "execution_count": null,
   "id": "5995b745",
   "metadata": {},
   "outputs": [],
   "source": []
  },
  {
   "cell_type": "code",
   "execution_count": null,
   "id": "c901cd28",
   "metadata": {},
   "outputs": [],
   "source": []
  },
  {
   "cell_type": "markdown",
   "id": "84077833",
   "metadata": {},
   "source": [
    "# Nr. of Doors"
   ]
  },
  {
   "cell_type": "code",
   "execution_count": null,
   "id": "8c192cb9",
   "metadata": {},
   "outputs": [],
   "source": [
    "df.nr_of_doors.isnull().sum() "
   ]
  },
  {
   "cell_type": "code",
   "execution_count": null,
   "id": "4e1365cd",
   "metadata": {},
   "outputs": [],
   "source": [
    "df['nr_of_doors'] = df['nr_of_doors'].astype(str).str[4]"
   ]
  },
  {
   "cell_type": "code",
   "execution_count": null,
   "id": "75aaaf45",
   "metadata": {},
   "outputs": [],
   "source": [
    "df['nr_of_doors'].value_counts(dropna=False)"
   ]
  },
  {
   "cell_type": "code",
   "execution_count": null,
   "id": "9f39902c",
   "metadata": {},
   "outputs": [],
   "source": [
    "df['nr_of_doors'] = df['nr_of_doors'].astype(float)"
   ]
  },
  {
   "cell_type": "code",
   "execution_count": null,
   "id": "414a77eb",
   "metadata": {},
   "outputs": [],
   "source": [
    "df['nr_of_doors'].dtype"
   ]
  },
  {
   "cell_type": "code",
   "execution_count": null,
   "id": "9cfb22ba",
   "metadata": {},
   "outputs": [],
   "source": [
    "df.nr_of_doors"
   ]
  },
  {
   "cell_type": "code",
   "execution_count": null,
   "id": "39a87bf7",
   "metadata": {},
   "outputs": [],
   "source": [
    "for group in list(df['make_model'].unique()):\n",
    "    cond = df['make_model'] == group\n",
    "    mode = list(df[cond]['nr_of_doors'].mode())\n",
    "    if mode != []:\n",
    "        df.loc[cond,'nr_of_doors'] = df.loc[cond,'nr_of_doors'].fillna(df[cond]['nr_of_doors'].mode()[0])\n",
    "    else:\n",
    "        df.loc[cond,'nr_of_doors'] = df.loc[cond,'nr_of_doors'].fillna(df['nr_of_doors'].mode()[0])"
   ]
  },
  {
   "cell_type": "code",
   "execution_count": null,
   "id": "4dc175d8",
   "metadata": {},
   "outputs": [],
   "source": [
    "df['nr_of_doors'].value_counts(dropna=False)"
   ]
  },
  {
   "cell_type": "code",
   "execution_count": null,
   "id": "4a9a72d4",
   "metadata": {},
   "outputs": [],
   "source": [
    "df['nr_of_doors'].isnull().sum()\n",
    "# Araç kapı sayısı null olan kalmadı."
   ]
  },
  {
   "cell_type": "code",
   "execution_count": null,
   "id": "6c13ffff",
   "metadata": {},
   "outputs": [],
   "source": []
  },
  {
   "cell_type": "code",
   "execution_count": null,
   "id": "dfc404c7",
   "metadata": {},
   "outputs": [],
   "source": []
  },
  {
   "cell_type": "markdown",
   "id": "dba29cbb",
   "metadata": {},
   "source": [
    "# Nr. of Seats"
   ]
  },
  {
   "cell_type": "code",
   "execution_count": null,
   "id": "06fc16b8",
   "metadata": {},
   "outputs": [],
   "source": [
    "df.nr_of_seats"
   ]
  },
  {
   "cell_type": "code",
   "execution_count": null,
   "id": "7f64c36f",
   "metadata": {},
   "outputs": [],
   "source": [
    "df['nr_of_seats'] = df['nr_of_seats'].str[0].str.strip('\\n').astype('float')\n",
    "# df['nr_of_seats'] = df['nr_of_seats'].astype(str).str[4]"
   ]
  },
  {
   "cell_type": "code",
   "execution_count": null,
   "id": "7a8f5766",
   "metadata": {},
   "outputs": [],
   "source": [
    "df.nr_of_seats.dtype"
   ]
  },
  {
   "cell_type": "code",
   "execution_count": null,
   "id": "d70af0dc",
   "metadata": {},
   "outputs": [],
   "source": [
    "df['nr_of_seats'].value_counts(dropna=False)"
   ]
  },
  {
   "cell_type": "code",
   "execution_count": null,
   "id": "4d5ba65c",
   "metadata": {},
   "outputs": [],
   "source": [
    "for group in list(df['make_model'].unique()):\n",
    "    cond = df['make_model'] == group\n",
    "    mode = list(df[cond]['nr_of_seats'].mode())\n",
    "    if mode != []:\n",
    "        df.loc[cond,'nr_of_seats'] = df.loc[cond,'nr_of_seats'].fillna(df[cond]['nr_of_seats'].mode()[0])\n",
    "    else:\n",
    "        df.loc[cond,'nr_of_seats'] = df.loc[cond,'nr_of_seats'].fillna(df['nr_of_seats'].mode()[0])\n",
    "\n",
    "# nan ları doldurdum"
   ]
  },
  {
   "cell_type": "code",
   "execution_count": null,
   "id": "18998a63",
   "metadata": {},
   "outputs": [],
   "source": [
    "df['nr_of_seats'].value_counts(dropna=False)\n",
    "# nan kalmadı"
   ]
  },
  {
   "cell_type": "code",
   "execution_count": null,
   "id": "7d6d0d64",
   "metadata": {},
   "outputs": [],
   "source": []
  },
  {
   "cell_type": "code",
   "execution_count": null,
   "id": "179f389a",
   "metadata": {},
   "outputs": [],
   "source": []
  },
  {
   "cell_type": "markdown",
   "id": "092fe3e1",
   "metadata": {},
   "source": [
    "# Model Code"
   ]
  },
  {
   "cell_type": "code",
   "execution_count": null,
   "id": "88bee19f",
   "metadata": {},
   "outputs": [],
   "source": [
    "df['model_code']=[item[0] if type(item)==list else item for item in df['model_code']]"
   ]
  },
  {
   "cell_type": "code",
   "execution_count": null,
   "id": "0f8ff6ec",
   "metadata": {},
   "outputs": [],
   "source": [
    "df['model_code'] = df['model_code'].str.strip('\\n')"
   ]
  },
  {
   "cell_type": "code",
   "execution_count": null,
   "id": "6f9479f3",
   "metadata": {},
   "outputs": [],
   "source": []
  },
  {
   "cell_type": "code",
   "execution_count": null,
   "id": "70997b85",
   "metadata": {},
   "outputs": [],
   "source": []
  },
  {
   "cell_type": "markdown",
   "id": "53d6a715",
   "metadata": {},
   "source": [
    "# Gearing Type"
   ]
  },
  {
   "cell_type": "code",
   "execution_count": null,
   "id": "4ebefc6a",
   "metadata": {},
   "outputs": [],
   "source": [
    "df.gearing_type.head()"
   ]
  },
  {
   "cell_type": "code",
   "execution_count": null,
   "id": "b588f2fb",
   "metadata": {},
   "outputs": [],
   "source": [
    "#removed 0 and 2 index, left only 1st index\n",
    "df.gearing_type = df.gearing_type.apply(lambda x: x[1])"
   ]
  },
  {
   "cell_type": "code",
   "execution_count": null,
   "id": "efa6f6ce",
   "metadata": {},
   "outputs": [],
   "source": []
  },
  {
   "cell_type": "code",
   "execution_count": null,
   "id": "b67d3f3d",
   "metadata": {},
   "outputs": [],
   "source": []
  },
  {
   "cell_type": "markdown",
   "id": "0bf0e8d5",
   "metadata": {},
   "source": [
    "# Displacement"
   ]
  },
  {
   "cell_type": "code",
   "execution_count": null,
   "id": "ccda7b6a",
   "metadata": {},
   "outputs": [],
   "source": [
    "df.displacement"
   ]
  },
  {
   "cell_type": "code",
   "execution_count": null,
   "id": "e1b197b9",
   "metadata": {},
   "outputs": [],
   "source": [
    "#Converted type list to str\n",
    "df.displacement = [item[0] if type(item)==list else item for item in df.displacement]\n",
    "df.displacement"
   ]
  },
  {
   "cell_type": "code",
   "execution_count": null,
   "id": "08e2f899",
   "metadata": {},
   "outputs": [],
   "source": [
    "#cleaned characters out of numbers, before and after \",\"\n",
    "df.displacement = df.displacement.str.extract(\"(\\d*,\\d*)\")"
   ]
  },
  {
   "cell_type": "code",
   "execution_count": null,
   "id": "f91aaa7a",
   "metadata": {},
   "outputs": [],
   "source": [
    "#replaced \",\" with \".\" and converted type to float\n",
    "df.displacement = df.displacement.str.replace(\",\",\".\").astype(float)"
   ]
  },
  {
   "cell_type": "code",
   "execution_count": null,
   "id": "a93c63da",
   "metadata": {},
   "outputs": [],
   "source": [
    "df.displacement"
   ]
  },
  {
   "cell_type": "code",
   "execution_count": null,
   "id": "d9894321",
   "metadata": {},
   "outputs": [],
   "source": []
  },
  {
   "cell_type": "code",
   "execution_count": null,
   "id": "c6166f99",
   "metadata": {},
   "outputs": [],
   "source": []
  },
  {
   "cell_type": "markdown",
   "id": "ef39750e",
   "metadata": {},
   "source": [
    "# Cylinders"
   ]
  },
  {
   "cell_type": "code",
   "execution_count": null,
   "id": "7ac4dbea",
   "metadata": {},
   "outputs": [],
   "source": [
    "df.cylinders"
   ]
  },
  {
   "cell_type": "code",
   "execution_count": null,
   "id": "1079c00c",
   "metadata": {},
   "outputs": [],
   "source": [
    "df.cylinders = [item[0] if type(item)==list else item for item in df.cylinders]\n",
    "df.cylinders"
   ]
  },
  {
   "cell_type": "code",
   "execution_count": null,
   "id": "877a0fe5",
   "metadata": {},
   "outputs": [],
   "source": [
    "#replaced \"\\n\" with \"\"\n",
    "df.cylinders = df.cylinders.str.replace(\"\\n\",\"\").astype(float)"
   ]
  },
  {
   "cell_type": "code",
   "execution_count": null,
   "id": "427f01b7",
   "metadata": {},
   "outputs": [],
   "source": []
  },
  {
   "cell_type": "code",
   "execution_count": null,
   "id": "af474cd5",
   "metadata": {},
   "outputs": [],
   "source": []
  },
  {
   "cell_type": "markdown",
   "id": "d28c1480",
   "metadata": {},
   "source": [
    "# Weight"
   ]
  },
  {
   "cell_type": "code",
   "execution_count": null,
   "id": "8effa62a",
   "metadata": {},
   "outputs": [],
   "source": [
    "df[\"weight\"]=df[\"weight\"].astype(str).str[4:9] "
   ]
  },
  {
   "cell_type": "code",
   "execution_count": null,
   "id": "e286e424",
   "metadata": {},
   "outputs": [],
   "source": [
    "df[\"weight(kg)\"].replace(',','.', regex=True)"
   ]
  },
  {
   "cell_type": "code",
   "execution_count": null,
   "id": "79483b6b",
   "metadata": {},
   "outputs": [],
   "source": []
  },
  {
   "cell_type": "code",
   "execution_count": null,
   "id": "9ac67715",
   "metadata": {},
   "outputs": [],
   "source": []
  },
  {
   "cell_type": "markdown",
   "id": "e26d748e",
   "metadata": {},
   "source": [
    "# Drive chain"
   ]
  },
  {
   "cell_type": "code",
   "execution_count": null,
   "id": "3cb8fe61",
   "metadata": {},
   "outputs": [],
   "source": [
    "df.drive_chain"
   ]
  },
  {
   "cell_type": "code",
   "execution_count": null,
   "id": "ad01735c",
   "metadata": {},
   "outputs": [],
   "source": [
    "df.drive_chain = [item[0] if type(item)==list else item for item in df.drive_chain]\n",
    "df.drive_chain"
   ]
  },
  {
   "cell_type": "code",
   "execution_count": null,
   "id": "98459206",
   "metadata": {},
   "outputs": [],
   "source": [
    "df.drive_chain = df.drive_chain.str.replace(\"\\n\",\"\").astype(str)"
   ]
  },
  {
   "cell_type": "code",
   "execution_count": null,
   "id": "42ed8b70",
   "metadata": {},
   "outputs": [],
   "source": [
    "df.drive_chain.head()"
   ]
  },
  {
   "cell_type": "code",
   "execution_count": null,
   "id": "3e7e0963",
   "metadata": {},
   "outputs": [],
   "source": []
  },
  {
   "cell_type": "code",
   "execution_count": null,
   "id": "b7c20cac",
   "metadata": {},
   "outputs": [],
   "source": []
  },
  {
   "cell_type": "markdown",
   "id": "07be437a",
   "metadata": {},
   "source": [
    "# Fuel"
   ]
  },
  {
   "cell_type": "code",
   "execution_count": null,
   "id": "3cf5849b",
   "metadata": {},
   "outputs": [],
   "source": [
    "df[\"fuel\"]"
   ]
  },
  {
   "cell_type": "code",
   "execution_count": null,
   "id": "6ec47dba",
   "metadata": {},
   "outputs": [],
   "source": [
    "# df[\"fuel\"]=df[\"fuel\"].apply(str).str.split(\",\").str[1]\n",
    "# df[\"fuel\"]"
   ]
  },
  {
   "cell_type": "code",
   "execution_count": null,
   "id": "8fe96ca4",
   "metadata": {},
   "outputs": [],
   "source": [
    "df[\"fuel\"]=[item[1] if type(item)==list else item for item in df[\"fuel\"]]\n",
    "df[\"fuel\"]"
   ]
  },
  {
   "cell_type": "code",
   "execution_count": null,
   "id": "3c7f0043",
   "metadata": {},
   "outputs": [],
   "source": [
    "df[\"fuel\"]=df[\"fuel\"].str.split(\"/\")"
   ]
  },
  {
   "cell_type": "code",
   "execution_count": null,
   "id": "987560de",
   "metadata": {},
   "outputs": [],
   "source": [
    "df[\"fuel\"]"
   ]
  },
  {
   "cell_type": "code",
   "execution_count": null,
   "id": "9a5098a2",
   "metadata": {},
   "outputs": [],
   "source": [
    "df[\"fuel\"]=[item[0] if type(item)==list else item for item in df[\"fuel\"]]\n",
    "df[\"fuel\"]"
   ]
  },
  {
   "cell_type": "code",
   "execution_count": null,
   "id": "682aa3d1",
   "metadata": {},
   "outputs": [],
   "source": [
    "df[\"fuel\"].unique()"
   ]
  },
  {
   "cell_type": "code",
   "execution_count": null,
   "id": "47efc58c",
   "metadata": {},
   "outputs": [],
   "source": [
    "lpg=['LPG','Gasoline',\"Gasoline (Particulate Filter)\",'Liquid petroleum gas (LPG)','CNG (Particulate Filter)',\"CNG\",\"Domestic gas H\", \"Biogas\" ]\n",
    "benzine=[\"Regular\",\"Benzine 91\" ,\"Super 95\" ,\"Benzine E10 91\",\"Super E10 95\", 'Super E10 95 ' ,\"Super Plus 98\" , 'Super Plus 98 ',\"Super Plus E10 98\", 'Super Plus E10 98 ',\"Super 95 (Particulate Filter)\",\"Super E10 95 (Particulate Filter)\",\"Super 95 \"]\n",
    "Diesel=[\"Diesel\",\"Diesel (Particulate Filter)\" ]\n",
    "\n",
    "def fueltype(x):\n",
    "  if x in benzine:\n",
    "    return \"Benzine\"\n",
    "  elif x in lpg:\n",
    "    return \"LPG/CNG\"\n",
    "  elif x in Diesel:\n",
    "    return \"Diesel\"\n",
    "  else:\n",
    "     return \"others\""
   ]
  },
  {
   "cell_type": "code",
   "execution_count": null,
   "id": "8b8776bc",
   "metadata": {},
   "outputs": [],
   "source": [
    "df[\"fuel\"]=df[\"fuel\"].apply(fueltype)\n",
    "df[\"fuel\"]"
   ]
  },
  {
   "cell_type": "code",
   "execution_count": null,
   "id": "68541dc5",
   "metadata": {},
   "outputs": [],
   "source": [
    "df[\"fuel\"].value_counts(dropna=False)"
   ]
  },
  {
   "cell_type": "code",
   "execution_count": null,
   "id": "771d8cbf",
   "metadata": {},
   "outputs": [],
   "source": []
  },
  {
   "cell_type": "code",
   "execution_count": null,
   "id": "bafc1313",
   "metadata": {},
   "outputs": [],
   "source": []
  },
  {
   "cell_type": "markdown",
   "id": "c16e1195",
   "metadata": {},
   "source": [
    "# Consumption"
   ]
  },
  {
   "cell_type": "code",
   "execution_count": null,
   "id": "7f0c2da2",
   "metadata": {},
   "outputs": [],
   "source": [
    "df['consumption']"
   ]
  },
  {
   "cell_type": "code",
   "execution_count": null,
   "id": "b8885616",
   "metadata": {},
   "outputs": [],
   "source": []
  },
  {
   "cell_type": "code",
   "execution_count": null,
   "id": "642f798f",
   "metadata": {},
   "outputs": [],
   "source": []
  },
  {
   "cell_type": "markdown",
   "id": "744410ed",
   "metadata": {},
   "source": [
    "## Consumption_comb"
   ]
  },
  {
   "cell_type": "code",
   "execution_count": null,
   "id": "57b1c7a0",
   "metadata": {},
   "outputs": [],
   "source": [
    "df['consumption_comb']=[item[0] if type(item)==list and type(item[0])==list   else item for item in df['consumption']]"
   ]
  },
  {
   "cell_type": "code",
   "execution_count": null,
   "id": "15d15783",
   "metadata": {},
   "outputs": [],
   "source": [
    "df['consumption_comb']"
   ]
  },
  {
   "cell_type": "code",
   "execution_count": null,
   "id": "766ce25d",
   "metadata": {},
   "outputs": [],
   "source": [
    "df['consumption_comb']=df['consumption_comb'].apply(lambda item: \",\".join(item) if type(item) == list else item)"
   ]
  },
  {
   "cell_type": "code",
   "execution_count": null,
   "id": "568fef29",
   "metadata": {},
   "outputs": [],
   "source": [
    "df['consumption_comb']"
   ]
  },
  {
   "cell_type": "code",
   "execution_count": null,
   "id": "90f72e89",
   "metadata": {},
   "outputs": [],
   "source": [
    "df['consumption_comb']=df['consumption_comb'].str.extract('(\\d.\\d l)')\n",
    "df['consumption_comb']"
   ]
  },
  {
   "cell_type": "code",
   "execution_count": null,
   "id": "1eb2e979",
   "metadata": {},
   "outputs": [],
   "source": [
    "df['consumption_comb']=df['consumption_comb'].str.replace(\"l\",\"\")"
   ]
  },
  {
   "cell_type": "code",
   "execution_count": null,
   "id": "c864aa8a",
   "metadata": {},
   "outputs": [],
   "source": [
    "df['consumption_comb']=df['consumption_comb'].astype(float)\n",
    "df['consumption_comb']"
   ]
  },
  {
   "cell_type": "code",
   "execution_count": null,
   "id": "aa50f876",
   "metadata": {},
   "outputs": [],
   "source": []
  },
  {
   "cell_type": "code",
   "execution_count": null,
   "id": "b1e83d6c",
   "metadata": {},
   "outputs": [],
   "source": []
  },
  {
   "cell_type": "markdown",
   "id": "27a23b1c",
   "metadata": {},
   "source": [
    "## Consumption_city"
   ]
  },
  {
   "cell_type": "code",
   "execution_count": null,
   "id": "e0a8067e",
   "metadata": {},
   "outputs": [],
   "source": [
    "df['consumption']"
   ]
  },
  {
   "cell_type": "code",
   "execution_count": null,
   "id": "b0c4b0df",
   "metadata": {},
   "outputs": [],
   "source": [
    "df['consumption_city']=[item[1] if type(item)==list and type(item[0])==list  else item for item in df['consumption']]\n",
    "df['consumption_city']"
   ]
  },
  {
   "cell_type": "code",
   "execution_count": null,
   "id": "7e5a08be",
   "metadata": {},
   "outputs": [],
   "source": [
    "df['consumption_city']=[item[1] if type(item)==list and type(item[0])==list  else item for item in df['consumption']]\n",
    "df['consumption_city']"
   ]
  },
  {
   "cell_type": "code",
   "execution_count": null,
   "id": "c9e84fb5",
   "metadata": {},
   "outputs": [],
   "source": [
    "df['consumption_city']=df['consumption_city'].apply(lambda item: \",\".join(item) if type(item) == list else item)"
   ]
  },
  {
   "cell_type": "code",
   "execution_count": null,
   "id": "ac195358",
   "metadata": {},
   "outputs": [],
   "source": [
    "df['consumption_city']"
   ]
  },
  {
   "cell_type": "code",
   "execution_count": null,
   "id": "ea6ba262",
   "metadata": {},
   "outputs": [],
   "source": [
    "df['consumption_city']=df['consumption_city'].str.extract(\"(\\d.\\d l/100 km)\")\n",
    "df['consumption_city']"
   ]
  },
  {
   "cell_type": "code",
   "execution_count": null,
   "id": "69814feb",
   "metadata": {},
   "outputs": [],
   "source": []
  },
  {
   "cell_type": "code",
   "execution_count": null,
   "id": "74a05121",
   "metadata": {},
   "outputs": [],
   "source": []
  },
  {
   "cell_type": "markdown",
   "id": "67602f15",
   "metadata": {},
   "source": [
    "## Consumption_country"
   ]
  },
  {
   "cell_type": "code",
   "execution_count": null,
   "id": "091bcfe1",
   "metadata": {},
   "outputs": [],
   "source": [
    "df['consumption_country']=[item[2] if type(item)==list else item for item in df['consumption']]\n",
    "df['consumption_country']"
   ]
  },
  {
   "cell_type": "code",
   "execution_count": null,
   "id": "021eaaa6",
   "metadata": {},
   "outputs": [],
   "source": [
    "df['consumption_country']=df['consumption_country'].apply(str).str.extract(\"(\\d\\d|\\d.\\d|\\d)\")\n",
    "df['consumption_country']"
   ]
  },
  {
   "cell_type": "code",
   "execution_count": null,
   "id": "ec553aa6",
   "metadata": {},
   "outputs": [],
   "source": [
    "df[['consumption','consumption_comb','consumption_city','consumption_country']]"
   ]
  },
  {
   "cell_type": "code",
   "execution_count": null,
   "id": "b9057102",
   "metadata": {},
   "outputs": [],
   "source": []
  },
  {
   "cell_type": "code",
   "execution_count": null,
   "id": "afff8bb0",
   "metadata": {},
   "outputs": [],
   "source": []
  },
  {
   "cell_type": "markdown",
   "id": "a5ef2f20",
   "metadata": {},
   "source": [
    "# CO2 Emission"
   ]
  },
  {
   "cell_type": "code",
   "execution_count": null,
   "id": "db9abbce",
   "metadata": {},
   "outputs": [],
   "source": [
    "df['co2_emission']"
   ]
  },
  {
   "cell_type": "code",
   "execution_count": null,
   "id": "4494ae0e",
   "metadata": {},
   "outputs": [],
   "source": [
    "df['co2_emission']=df['co2_emission'].apply(str).str.extract(\"(\\d+)\")"
   ]
  },
  {
   "cell_type": "code",
   "execution_count": null,
   "id": "04dac709",
   "metadata": {},
   "outputs": [],
   "source": [
    "df['co2_emission']"
   ]
  },
  {
   "cell_type": "code",
   "execution_count": null,
   "id": "9191bee2",
   "metadata": {},
   "outputs": [],
   "source": []
  },
  {
   "cell_type": "code",
   "execution_count": null,
   "id": "5661e15b",
   "metadata": {},
   "outputs": [],
   "source": []
  },
  {
   "cell_type": "markdown",
   "id": "618bc959",
   "metadata": {},
   "source": [
    "# Emission Class"
   ]
  },
  {
   "cell_type": "code",
   "execution_count": null,
   "id": "7d17392d",
   "metadata": {},
   "outputs": [],
   "source": [
    "df['emission_class']"
   ]
  },
  {
   "cell_type": "code",
   "execution_count": null,
   "id": "e63d0360",
   "metadata": {},
   "outputs": [],
   "source": [
    "df['emission_class']=[item[0] if type(item)==list else item for item in df['emission_class']]"
   ]
  },
  {
   "cell_type": "code",
   "execution_count": null,
   "id": "0a00028d",
   "metadata": {},
   "outputs": [],
   "source": [
    "df['emission_class']"
   ]
  },
  {
   "cell_type": "code",
   "execution_count": null,
   "id": "acd3e017",
   "metadata": {},
   "outputs": [],
   "source": [
    "df['emission_class']=df['emission_class'].apply(str).str.strip(\"\\n\")"
   ]
  },
  {
   "cell_type": "code",
   "execution_count": null,
   "id": "8c741e93",
   "metadata": {},
   "outputs": [],
   "source": [
    "df['emission_class']"
   ]
  },
  {
   "cell_type": "code",
   "execution_count": null,
   "id": "3b142f5b",
   "metadata": {},
   "outputs": [],
   "source": [
    "df['emission_class'].value_counts()"
   ]
  },
  {
   "cell_type": "code",
   "execution_count": null,
   "id": "8710661b",
   "metadata": {},
   "outputs": [],
   "source": [
    "#df[df['emission_class']==\"nan\"].T"
   ]
  },
  {
   "cell_type": "code",
   "execution_count": null,
   "id": "cac42ea2",
   "metadata": {},
   "outputs": [],
   "source": [
    "df[['emission_label','emission_class','co2_emission']]"
   ]
  },
  {
   "cell_type": "code",
   "execution_count": null,
   "id": "24791e8b",
   "metadata": {},
   "outputs": [],
   "source": []
  },
  {
   "cell_type": "code",
   "execution_count": null,
   "id": "88a422ec",
   "metadata": {},
   "outputs": [],
   "source": []
  },
  {
   "cell_type": "markdown",
   "id": "8ef81409",
   "metadata": {},
   "source": [
    "# Comfort & Convenience"
   ]
  },
  {
   "cell_type": "code",
   "execution_count": null,
   "id": "8bf522a3",
   "metadata": {},
   "outputs": [],
   "source": [
    "df['comfort_convenience'] = df['comfort_convenience'].apply(lambda item: \",\".join(item) if type(item) == list else item).str.title()"
   ]
  },
  {
   "cell_type": "code",
   "execution_count": null,
   "id": "720da9cd",
   "metadata": {},
   "outputs": [],
   "source": []
  },
  {
   "cell_type": "code",
   "execution_count": null,
   "id": "73ef5a1b",
   "metadata": {},
   "outputs": [],
   "source": []
  },
  {
   "cell_type": "code",
   "execution_count": null,
   "id": "1978fde8",
   "metadata": {},
   "outputs": [],
   "source": []
  },
  {
   "cell_type": "code",
   "execution_count": null,
   "id": "9d9a6a85",
   "metadata": {},
   "outputs": [],
   "source": []
  },
  {
   "cell_type": "markdown",
   "id": "a51ed8f4",
   "metadata": {},
   "source": [
    "# Entertainment & Media"
   ]
  },
  {
   "cell_type": "code",
   "execution_count": null,
   "id": "84e5c90c",
   "metadata": {},
   "outputs": [],
   "source": [
    "df['entertainment_media']"
   ]
  },
  {
   "cell_type": "code",
   "execution_count": null,
   "id": "dd8967cd",
   "metadata": {},
   "outputs": [],
   "source": [
    "df[\"entertainment_media\"] = [\",\".join(item) if type(item) == list else item for item in df[\"entertainment_media\"]]\n",
    "\n",
    "# köşeli parantez(liste)den çıkardım."
   ]
  },
  {
   "cell_type": "code",
   "execution_count": null,
   "id": "4222e6e1",
   "metadata": {},
   "outputs": [],
   "source": [
    "df.entertainment_media"
   ]
  },
  {
   "cell_type": "code",
   "execution_count": null,
   "id": "70fb5ec2",
   "metadata": {},
   "outputs": [],
   "source": [
    "df.entertainment_media.value_counts(dropna=False)"
   ]
  },
  {
   "cell_type": "code",
   "execution_count": null,
   "id": "14a53067",
   "metadata": {},
   "outputs": [],
   "source": [
    "for group in list(df['make_model'].unique()):\n",
    "    cond = df['make_model'] == group\n",
    "    mode = list(df[cond]['entertainment_media'].mode())\n",
    "    if mode != []:\n",
    "        df.loc[cond,'entertainment_media'] = df.loc[cond,'entertainment_media'].fillna(df[cond]['entertainment_media'].mode()[0])\n",
    "    else:\n",
    "        df.loc[cond,'entertainment_media'] = df.loc[cond,'entertainment_media'].fillna(df['entertainment_media'].mode()[0])\n",
    "        \n",
    "# entertainment_media sütunundaki nan değerleri dolduran kod yazdık "
   ]
  },
  {
   "cell_type": "code",
   "execution_count": null,
   "id": "1a281e22",
   "metadata": {},
   "outputs": [],
   "source": [
    "df.entertainment_media.isnull().sum()\n",
    "# entertainment_media sütununda nan kalmadı "
   ]
  },
  {
   "cell_type": "code",
   "execution_count": null,
   "id": "9a8d487c",
   "metadata": {},
   "outputs": [],
   "source": [
    "df.entertainment_media.value_counts(dropna=False)\n",
    "# entertainment_media sütununda nan değerler koda uygun dağıldı, nan kalmadı"
   ]
  },
  {
   "cell_type": "code",
   "execution_count": null,
   "id": "09f71693",
   "metadata": {},
   "outputs": [],
   "source": []
  },
  {
   "cell_type": "code",
   "execution_count": null,
   "id": "ac7f799a",
   "metadata": {},
   "outputs": [],
   "source": []
  },
  {
   "cell_type": "markdown",
   "id": "40a749e1",
   "metadata": {},
   "source": [
    "# Extras"
   ]
  },
  {
   "cell_type": "code",
   "execution_count": null,
   "id": "6cd4bbbc",
   "metadata": {},
   "outputs": [],
   "source": [
    "df['extras'] = df['extras'].apply(lambda item: \",\".join(item) if type(item) == list else item).str.title()"
   ]
  },
  {
   "cell_type": "code",
   "execution_count": null,
   "id": "1c87be2a",
   "metadata": {},
   "outputs": [],
   "source": []
  },
  {
   "cell_type": "code",
   "execution_count": null,
   "id": "e5b8dca2",
   "metadata": {},
   "outputs": [],
   "source": []
  },
  {
   "cell_type": "markdown",
   "id": "063456e6",
   "metadata": {},
   "source": [
    "# Safety & Security"
   ]
  },
  {
   "cell_type": "code",
   "execution_count": null,
   "id": "7993f143",
   "metadata": {},
   "outputs": [],
   "source": [
    "df[\"safety_security\"] = df[\"safety_security\"].apply(lambda item: \",\".join(item) if type(item) == list else item).str.title()"
   ]
  },
  {
   "cell_type": "code",
   "execution_count": null,
   "id": "800b63a2",
   "metadata": {},
   "outputs": [],
   "source": []
  },
  {
   "cell_type": "code",
   "execution_count": null,
   "id": "e84fade3",
   "metadata": {},
   "outputs": [],
   "source": []
  },
  {
   "cell_type": "markdown",
   "id": "bae5c9ee",
   "metadata": {},
   "source": [
    "# description"
   ]
  },
  {
   "cell_type": "code",
   "execution_count": null,
   "id": "a5613c3b",
   "metadata": {},
   "outputs": [],
   "source": [
    "df.description = scout_car.description\n",
    "# hatalı işlem yapınca kopyadan geri getirdim."
   ]
  },
  {
   "cell_type": "code",
   "execution_count": null,
   "id": "06d22cba",
   "metadata": {},
   "outputs": [],
   "source": [
    "df.description"
   ]
  },
  {
   "cell_type": "code",
   "execution_count": null,
   "id": "3b7a91ae",
   "metadata": {},
   "outputs": [],
   "source": [
    "df.description.isnull().sum()"
   ]
  },
  {
   "cell_type": "code",
   "execution_count": null,
   "id": "3b5ee86d",
   "metadata": {},
   "outputs": [],
   "source": [
    "df.description.astype('str').value_counts(dropna=False)   "
   ]
  },
  {
   "cell_type": "code",
   "execution_count": null,
   "id": "eb125595",
   "metadata": {},
   "outputs": [],
   "source": [
    "# Karışık, farklı dillerde çok sayıda veri var. Ancak bunlar diğer sütunlarda var, ihtiyaç yok. Düşürelim."
   ]
  },
  {
   "cell_type": "code",
   "execution_count": null,
   "id": "9b062228",
   "metadata": {},
   "outputs": [],
   "source": [
    "# df.drop(\"description\", axis=1, inplace=True)"
   ]
  },
  {
   "cell_type": "code",
   "execution_count": null,
   "id": "299a2abe",
   "metadata": {},
   "outputs": [],
   "source": []
  },
  {
   "cell_type": "code",
   "execution_count": null,
   "id": "0d489658",
   "metadata": {},
   "outputs": [],
   "source": []
  },
  {
   "cell_type": "markdown",
   "id": "5877feb2",
   "metadata": {},
   "source": [
    "# Emission Label"
   ]
  },
  {
   "cell_type": "code",
   "execution_count": null,
   "id": "bc0e387d",
   "metadata": {},
   "outputs": [],
   "source": [
    "df['emission_label']=[item[0] if type(item)==list else item for item in df['emission_label']]"
   ]
  },
  {
   "cell_type": "code",
   "execution_count": null,
   "id": "21edc554",
   "metadata": {},
   "outputs": [],
   "source": [
    "df['emission_label']"
   ]
  },
  {
   "cell_type": "code",
   "execution_count": null,
   "id": "56678cbd",
   "metadata": {},
   "outputs": [],
   "source": [
    "df['emission_label']=df['emission_label'].apply(str).str.strip(\"\\n\")\n",
    "df['emission_label']"
   ]
  },
  {
   "cell_type": "code",
   "execution_count": null,
   "id": "26261fc2",
   "metadata": {},
   "outputs": [],
   "source": [
    "df['emission_label'].value_counts()"
   ]
  },
  {
   "cell_type": "code",
   "execution_count": null,
   "id": "639e3dc7",
   "metadata": {},
   "outputs": [],
   "source": []
  },
  {
   "cell_type": "code",
   "execution_count": null,
   "id": "542b6f4d",
   "metadata": {},
   "outputs": [],
   "source": []
  },
  {
   "cell_type": "markdown",
   "id": "823a3b4f",
   "metadata": {},
   "source": [
    "# Gears"
   ]
  },
  {
   "cell_type": "code",
   "execution_count": null,
   "id": "12a97690",
   "metadata": {},
   "outputs": [],
   "source": [
    "df.gears.head()"
   ]
  },
  {
   "cell_type": "code",
   "execution_count": null,
   "id": "742cb828",
   "metadata": {},
   "outputs": [],
   "source": [
    "df.gears = [item[0] if type(item)==list else item for item in df.gears]\n",
    "df.gears"
   ]
  },
  {
   "cell_type": "code",
   "execution_count": null,
   "id": "0697b2a2",
   "metadata": {},
   "outputs": [],
   "source": [
    "df.gears = df.gears.str.replace(\"\\n\",\"\").astype(float)"
   ]
  },
  {
   "cell_type": "code",
   "execution_count": null,
   "id": "6af868b3",
   "metadata": {},
   "outputs": [],
   "source": [
    "df.gears"
   ]
  },
  {
   "cell_type": "code",
   "execution_count": null,
   "id": "d3a89517",
   "metadata": {},
   "outputs": [],
   "source": []
  },
  {
   "cell_type": "markdown",
   "id": "5c6ef929",
   "metadata": {},
   "source": [
    "# Country version"
   ]
  },
  {
   "cell_type": "code",
   "execution_count": null,
   "id": "3e4b47dc",
   "metadata": {},
   "outputs": [],
   "source": [
    "df['country_version']=[item[0] if type(item)==list else item for item in df['country_version']]"
   ]
  },
  {
   "cell_type": "code",
   "execution_count": null,
   "id": "86e115f2",
   "metadata": {},
   "outputs": [],
   "source": []
  },
  {
   "cell_type": "code",
   "execution_count": null,
   "id": "7a29f784",
   "metadata": {},
   "outputs": [],
   "source": []
  },
  {
   "cell_type": "code",
   "execution_count": null,
   "id": "890cf99a",
   "metadata": {},
   "outputs": [],
   "source": []
  },
  {
   "cell_type": "code",
   "execution_count": null,
   "id": "1d6637b7",
   "metadata": {},
   "outputs": [],
   "source": []
  },
  {
   "cell_type": "code",
   "execution_count": null,
   "id": "4cdc0659",
   "metadata": {},
   "outputs": [],
   "source": []
  },
  {
   "cell_type": "markdown",
   "id": "ca4755b9",
   "metadata": {},
   "source": [
    "# Electricity consumption"
   ]
  },
  {
   "cell_type": "code",
   "execution_count": null,
   "id": "aa4b6b81",
   "metadata": {},
   "outputs": [],
   "source": [
    "df['electricity_consumption']"
   ]
  },
  {
   "cell_type": "code",
   "execution_count": null,
   "id": "754b7f7b",
   "metadata": {},
   "outputs": [],
   "source": [
    "df['electricity_consumption'].isnull().sum()"
   ]
  },
  {
   "cell_type": "code",
   "execution_count": null,
   "id": "bfaf0310",
   "metadata": {},
   "outputs": [],
   "source": []
  },
  {
   "cell_type": "code",
   "execution_count": null,
   "id": "bac37c61",
   "metadata": {},
   "outputs": [],
   "source": []
  },
  {
   "cell_type": "markdown",
   "id": "7e4b5e19",
   "metadata": {},
   "source": [
    "# Last Service Date"
   ]
  },
  {
   "cell_type": "code",
   "execution_count": null,
   "id": "958a8c47",
   "metadata": {},
   "outputs": [],
   "source": []
  },
  {
   "cell_type": "code",
   "execution_count": null,
   "id": "8c2765b6",
   "metadata": {},
   "outputs": [],
   "source": []
  },
  {
   "cell_type": "markdown",
   "id": "93ce14a6",
   "metadata": {},
   "source": [
    "# Other Fuel Types"
   ]
  },
  {
   "cell_type": "code",
   "execution_count": null,
   "id": "bc719991",
   "metadata": {},
   "outputs": [],
   "source": [
    "df['other_fuel_types'].isnull().sum()"
   ]
  },
  {
   "cell_type": "code",
   "execution_count": null,
   "id": "653a68d6",
   "metadata": {},
   "outputs": [],
   "source": []
  },
  {
   "cell_type": "code",
   "execution_count": null,
   "id": "fc4dbdcf",
   "metadata": {},
   "outputs": [],
   "source": []
  },
  {
   "cell_type": "code",
   "execution_count": null,
   "id": "1870ca2b",
   "metadata": {},
   "outputs": [],
   "source": []
  },
  {
   "cell_type": "code",
   "execution_count": null,
   "id": "16d23863",
   "metadata": {},
   "outputs": [],
   "source": []
  },
  {
   "cell_type": "markdown",
   "id": "f7c8e0a3",
   "metadata": {},
   "source": [
    "# Availability"
   ]
  },
  {
   "cell_type": "code",
   "execution_count": null,
   "id": "0cc593eb",
   "metadata": {},
   "outputs": [],
   "source": []
  },
  {
   "cell_type": "code",
   "execution_count": null,
   "id": "15b6032d",
   "metadata": {},
   "outputs": [],
   "source": []
  },
  {
   "cell_type": "markdown",
   "id": "be189e77",
   "metadata": {},
   "source": [
    "# Last Timing Belt Service Date"
   ]
  },
  {
   "cell_type": "code",
   "execution_count": null,
   "id": "a4ff4f92",
   "metadata": {},
   "outputs": [],
   "source": []
  },
  {
   "cell_type": "code",
   "execution_count": null,
   "id": "cbf49acc",
   "metadata": {},
   "outputs": [],
   "source": []
  },
  {
   "cell_type": "markdown",
   "id": "f24713b4",
   "metadata": {},
   "source": [
    "# Available from"
   ]
  },
  {
   "cell_type": "code",
   "execution_count": null,
   "id": "82d75470",
   "metadata": {},
   "outputs": [],
   "source": []
  },
  {
   "cell_type": "code",
   "execution_count": null,
   "id": "6918b8aa",
   "metadata": {},
   "outputs": [],
   "source": []
  },
  {
   "cell_type": "markdown",
   "id": "9dcb9dbd",
   "metadata": {},
   "source": [
    "# rename columns"
   ]
  },
  {
   "cell_type": "code",
   "execution_count": null,
   "id": "bdc8596a",
   "metadata": {},
   "outputs": [],
   "source": [
    "# Ali Hoca rename\n",
    "df.rename(columns = {'\\nExtras\\n':'Extras'}, inplace = True)"
   ]
  },
  {
   "cell_type": "code",
   "execution_count": null,
   "id": "75d2fcad",
   "metadata": {},
   "outputs": [],
   "source": [
    "# Omer Hoca rename\n",
    "df.rename(columns = {'Nr. of Doors':'nr_of_doors', 'Nr. of Seats':'nr_of_seats'}, inplace = True)"
   ]
  },
  {
   "cell_type": "code",
   "execution_count": null,
   "id": "168d10b1",
   "metadata": {},
   "outputs": [],
   "source": [
    "# Ahmet rename\n",
    "#renamed columns as decided with team members\n",
    "df.rename(columns = {'Gearing Type':'gearing_type',\n",
    "                           'Displacement':'displacement',\n",
    "                           'Cylinders':'cylinders',\n",
    "                           'Drive chain':'drive_chain',\n",
    "                          'Gears':'gears'}, inplace = True)\n",
    "#renamed registration to age as decided before\n",
    "df.rename(columns = {'registration':'age'}, inplace = True)"
   ]
  },
  {
   "cell_type": "code",
   "execution_count": null,
   "id": "3cbcf25e",
   "metadata": {},
   "outputs": [],
   "source": [
    "# Gulcan Hoca rename\n",
    "df.rename(columns = {'Previous Owners':'previous_owners',\n",
    "                    'Consumption':'consumption',\n",
    "                    'CO2 Emission':'CO2_emission_gCO2/km',\n",
    "                    'Emission Class':'emission_class',\n",
    "                    'Emission Label':'emission_label',\n",
    "                    'Electricity consumption':'electricity_consumption',\n",
    "                    'Other Fuel Types':'other_fuel_types'}, inplace = True)"
   ]
  },
  {
   "cell_type": "code",
   "execution_count": null,
   "id": "003641cc",
   "metadata": {},
   "outputs": [],
   "source": [
    "# Gokhan Hoca rename\n",
    "df.rename(columns = {'Weight':'Weight(kg)'}, inplace = True)\n",
    "df.rename(columns = {\"\\nSafety & Security\\n\":\"Safety & Security\"}, inplace = True)"
   ]
  }
 ],
 "metadata": {
  "kernelspec": {
   "display_name": "Python 3 (ipykernel)",
   "language": "python",
   "name": "python3"
  },
  "language_info": {
   "codemirror_mode": {
    "name": "ipython",
    "version": 3
   },
   "file_extension": ".py",
   "mimetype": "text/x-python",
   "name": "python",
   "nbconvert_exporter": "python",
   "pygments_lexer": "ipython3",
   "version": "3.9.7"
  },
  "toc": {
   "base_numbering": 1,
   "nav_menu": {},
   "number_sections": true,
   "sideBar": true,
   "skip_h1_title": false,
   "title_cell": "Table of Contents",
   "title_sidebar": "Contents",
   "toc_cell": false,
   "toc_position": {
    "height": "calc(100% - 180px)",
    "left": "10px",
    "top": "150px",
    "width": "302.358px"
   },
   "toc_section_display": true,
   "toc_window_display": true
  }
 },
 "nbformat": 4,
 "nbformat_minor": 5
}
