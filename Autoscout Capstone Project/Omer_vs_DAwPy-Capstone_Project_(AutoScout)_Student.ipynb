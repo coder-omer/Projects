{
 "cells": [
  {
   "cell_type": "markdown",
   "metadata": {},
   "source": [
    "** Price sütunu data analizi"
   ]
  },
  {
   "cell_type": "code",
   "execution_count": 455,
   "metadata": {},
   "outputs": [
    {
     "data": {
      "text/plain": [
       "8594       13\n",
       "8828      120\n",
       "6066      255\n",
       "8829      331\n",
       "8827     4950\n",
       "8825     4990\n",
       "8826     5250\n",
       "8824     5300\n",
       "13770    5445\n",
       "8823     5450\n",
       "Name: price, dtype: int64"
      ]
     },
     "execution_count": 455,
     "metadata": {},
     "output_type": "execute_result"
    }
   ],
   "source": [
    "df.price.sort_values().head(10)"
   ]
  },
  {
   "cell_type": "code",
   "execution_count": 499,
   "metadata": {},
   "outputs": [
    {
     "data": {
      "text/plain": [
       "13      1\n",
       "120     1\n",
       "255     1\n",
       "331     1\n",
       "4950    1\n",
       "4990    1\n",
       "5250    1\n",
       "5300    1\n",
       "5445    1\n",
       "5450    1\n",
       "Name: price, dtype: int64"
      ]
     },
     "execution_count": 499,
     "metadata": {},
     "output_type": "execute_result"
    }
   ],
   "source": [
    "price_count.sort_index().head(10)          # 4950 altındaki değerler şüpheli"
   ]
  },
  {
   "cell_type": "code",
   "execution_count": 498,
   "metadata": {},
   "outputs": [
    {
     "data": {
      "text/plain": [
       "74600    1\n",
       "68320    1\n",
       "67600    1\n",
       "64900    1\n",
       "64332    1\n",
       "64298    1\n",
       "63900    1\n",
       "63477    1\n",
       "62900    1\n",
       "58990    1\n",
       "Name: price, dtype: int64"
      ]
     },
     "execution_count": 498,
     "metadata": {},
     "output_type": "execute_result"
    }
   ],
   "source": [
    "price_count.sort_index(ascending=False).head(10)         # üst değerler yüksek model (limuzin gibi) olduğundan normal"
   ]
  },
  {
   "cell_type": "code",
   "execution_count": null,
   "metadata": {},
   "outputs": [],
   "source": [
    "# 8594       13     8828      120       6066      255       8829      331"
   ]
  },
  {
   "cell_type": "code",
   "execution_count": 469,
   "metadata": {},
   "outputs": [],
   "source": [
    "# df.iloc[[8594]]    # Opel Corsa\t1.4 (ecoFLEX)\n",
    "# df.iloc[[8828]]   # Opel Corsa\t1.0 Turbo 120 Jaar\n",
    "# df.iloc[[6066]]   # Opel Astra\t1.6 D (CDTI) Start/Stop Sports Tourer Business\tStation wagon\n",
    "# df.iloc[[8829]]     # Opel Corsa\tCorsa1.0 Turbo 90"
   ]
  },
  {
   "cell_type": "code",
   "execution_count": 474,
   "metadata": {},
   "outputs": [],
   "source": [
    "df.iloc[[8594]] = scout_car.iloc[[8594]]    # bu satıra yanlış değerleri doldurunca tekrar orjinalini almak için bu satırı yazdım"
   ]
  },
  {
   "cell_type": "code",
   "execution_count": 491,
   "metadata": {},
   "outputs": [
    {
     "data": {
      "text/plain": [
       "4"
      ]
     },
     "execution_count": 491,
     "metadata": {},
     "output_type": "execute_result"
    }
   ],
   "source": [
    "df.price.isnull().sum()"
   ]
  },
  {
   "cell_type": "code",
   "execution_count": null,
   "metadata": {},
   "outputs": [],
   "source": [
    "df.iloc[[8594, 8828, 6066, 8829]]         "
   ]
  },
  {
   "cell_type": "code",
   "execution_count": 533,
   "metadata": {},
   "outputs": [],
   "source": [
    "df.iloc[8829].price = df[df[\"make_model\"]==\"Opel Corsa\"][\"price\"].mode()[0]    #nan yapmış olduğum değerleri manuel olarak doldurdum. fillna ile yapamadım."
   ]
  },
  {
   "cell_type": "code",
   "execution_count": 534,
   "metadata": {},
   "outputs": [
    {
     "data": {
      "text/plain": [
       "10990"
      ]
     },
     "execution_count": 534,
     "metadata": {},
     "output_type": "execute_result"
    }
   ],
   "source": [
    "df.iloc[8829].price                # nan yapmış olduğum değerleri doldurduğumu test ettim"
   ]
  },
  {
   "cell_type": "code",
   "execution_count": 215,
   "metadata": {},
   "outputs": [],
   "source": [
    "# 15828    64332             # pahalı araçlara bir bakalım. null sayıları ipuçları ile örtüşüyor ama uç minimum değerler var.\n",
    "# 3587     64900\n",
    "# 3649     67600\n",
    "# 15826    68320\n",
    "# 3648     74600"
   ]
  },
  {
   "cell_type": "code",
   "execution_count": null,
   "metadata": {},
   "outputs": [],
   "source": [
    "df.iloc[[3648, 15826, 3649, 3587, 15828]]"
   ]
  },
  {
   "cell_type": "code",
   "execution_count": null,
   "metadata": {},
   "outputs": [],
   "source": [
    "# Renault Espace Initiale Paris model araçların avrupa fiyatlarını kontrol ettim, benzer km.ler bu fiyat. Yani bu araç fiyatları değerlendirmede kalmalı."
   ]
  },
  {
   "cell_type": "code",
   "execution_count": 572,
   "metadata": {},
   "outputs": [
    {
     "data": {
      "text/plain": [
       "dtype('float64')"
      ]
     },
     "execution_count": 572,
     "metadata": {},
     "output_type": "execute_result"
    }
   ],
   "source": [
    "df.price.dtype"
   ]
  },
  {
   "cell_type": "code",
   "execution_count": null,
   "metadata": {},
   "outputs": [],
   "source": []
  },
  {
   "cell_type": "markdown",
   "metadata": {},
   "source": [
    "** Vat sütunu data analizi"
   ]
  },
  {
   "cell_type": "code",
   "execution_count": 93,
   "metadata": {},
   "outputs": [
    {
     "data": {
      "text/plain": [
       "array(['VAT deductible', 'Price negotiable', None], dtype=object)"
      ]
     },
     "execution_count": 93,
     "metadata": {},
     "output_type": "execute_result"
    }
   ],
   "source": [
    "df.vat.unique()"
   ]
  },
  {
   "cell_type": "code",
   "execution_count": 94,
   "metadata": {},
   "outputs": [
    {
     "data": {
      "text/plain": [
       "4513"
      ]
     },
     "execution_count": 94,
     "metadata": {},
     "output_type": "execute_result"
    }
   ],
   "source": [
    "df.vat.isnull().sum()                         "
   ]
  },
  {
   "cell_type": "code",
   "execution_count": null,
   "metadata": {},
   "outputs": [],
   "source": [
    "# vat'ları olduğu gibi bırakıyorum. birlikte de incelemiştik. değerler mantıklı. ayrıca ipuçları ile örtüşüyor. sütun ismi uygun. None olması normal."
   ]
  },
  {
   "cell_type": "code",
   "execution_count": null,
   "metadata": {},
   "outputs": [],
   "source": []
  },
  {
   "cell_type": "markdown",
   "metadata": {},
   "source": [
    "** Number of Doors data analizi"
   ]
  },
  {
   "cell_type": "code",
   "execution_count": 122,
   "metadata": {},
   "outputs": [],
   "source": [
    "df.rename(columns = {'Nr. of Doors':'nr_of_doors', 'Nr. of Seats':'nr_of_seats'}, inplace = True) "
   ]
  },
  {
   "cell_type": "code",
   "execution_count": 575,
   "metadata": {},
   "outputs": [
    {
     "data": {
      "text/plain": [
       "212"
      ]
     },
     "execution_count": 575,
     "metadata": {},
     "output_type": "execute_result"
    }
   ],
   "source": [
    "df.nr_of_doors.isnull().sum() "
   ]
  },
  {
   "cell_type": "code",
   "execution_count": 546,
   "metadata": {},
   "outputs": [],
   "source": [
    "df['nr_of_doors'] = df['nr_of_doors'].astype(str).str[4]"
   ]
  },
  {
   "cell_type": "code",
   "execution_count": 1,
   "metadata": {},
   "outputs": [
    {
     "ename": "NameError",
     "evalue": "name 'df' is not defined",
     "output_type": "error",
     "traceback": [
      "\u001b[1;31m---------------------------------------------------------------------------\u001b[0m",
      "\u001b[1;31mNameError\u001b[0m                                 Traceback (most recent call last)",
      "\u001b[1;32m~\\AppData\\Local\\Temp/ipykernel_10508/3616169087.py\u001b[0m in \u001b[0;36m<module>\u001b[1;34m\u001b[0m\n\u001b[1;32m----> 1\u001b[1;33m \u001b[0mdf\u001b[0m\u001b[1;33m[\u001b[0m\u001b[1;34m'nr_of_doors'\u001b[0m\u001b[1;33m]\u001b[0m\u001b[1;33m.\u001b[0m\u001b[0mvalue_counts\u001b[0m\u001b[1;33m(\u001b[0m\u001b[0mdropna\u001b[0m\u001b[1;33m=\u001b[0m\u001b[1;32mFalse\u001b[0m\u001b[1;33m)\u001b[0m\u001b[1;33m\u001b[0m\u001b[1;33m\u001b[0m\u001b[0m\n\u001b[0m",
      "\u001b[1;31mNameError\u001b[0m: name 'df' is not defined"
     ]
    }
   ],
   "source": [
    "df['nr_of_doors'].value_counts(dropna=False)"
   ]
  },
  {
   "cell_type": "code",
   "execution_count": 577,
   "metadata": {},
   "outputs": [],
   "source": [
    "df['nr_of_doors'] = df['nr_of_doors'].astype(float)"
   ]
  },
  {
   "cell_type": "code",
   "execution_count": 578,
   "metadata": {},
   "outputs": [
    {
     "data": {
      "text/plain": [
       "dtype('float64')"
      ]
     },
     "execution_count": 578,
     "metadata": {},
     "output_type": "execute_result"
    }
   ],
   "source": [
    "df['nr_of_doors'].dtype"
   ]
  },
  {
   "cell_type": "code",
   "execution_count": 579,
   "metadata": {},
   "outputs": [
    {
     "data": {
      "text/plain": [
       "0       5.000\n",
       "1       3.000\n",
       "2       4.000\n",
       "3       3.000\n",
       "4       5.000\n",
       "         ... \n",
       "15914   5.000\n",
       "15915   5.000\n",
       "15916   5.000\n",
       "15917   5.000\n",
       "15918   5.000\n",
       "Name: nr_of_doors, Length: 15919, dtype: float64"
      ]
     },
     "execution_count": 579,
     "metadata": {},
     "output_type": "execute_result"
    }
   ],
   "source": [
    "df.nr_of_doors"
   ]
  },
  {
   "cell_type": "code",
   "execution_count": 580,
   "metadata": {},
   "outputs": [],
   "source": [
    "for group in list(df['make_model'].unique()):\n",
    "    cond = df['make_model'] == group\n",
    "    mode = list(df[cond]['nr_of_doors'].mode())\n",
    "    if mode != []:\n",
    "        df.loc[cond,'nr_of_doors'] = df.loc[cond,'nr_of_doors'].fillna(df[cond]['nr_of_doors'].mode()[0])\n",
    "    else:\n",
    "        df.loc[cond,'nr_of_doors'] = df.loc[cond,'nr_of_doors'].fillna(df['nr_of_doors'].mode()[0])"
   ]
  },
  {
   "cell_type": "code",
   "execution_count": 581,
   "metadata": {},
   "outputs": [
    {
     "data": {
      "text/plain": [
       "5.000    11787\n",
       "4.000     3079\n",
       "3.000      832\n",
       "2.000      219\n",
       "1.000        1\n",
       "7.000        1\n",
       "Name: nr_of_doors, dtype: int64"
      ]
     },
     "execution_count": 581,
     "metadata": {},
     "output_type": "execute_result"
    }
   ],
   "source": [
    "df['nr_of_doors'].value_counts(dropna=False)"
   ]
  },
  {
   "cell_type": "code",
   "execution_count": 582,
   "metadata": {},
   "outputs": [
    {
     "data": {
      "text/plain": [
       "0"
      ]
     },
     "execution_count": 582,
     "metadata": {},
     "output_type": "execute_result"
    }
   ],
   "source": [
    "df['nr_of_doors'].isnull().sum()                # Araç kapı sayısı null olan kalmadı."
   ]
  },
  {
   "cell_type": "code",
   "execution_count": null,
   "metadata": {},
   "outputs": [],
   "source": []
  },
  {
   "cell_type": "markdown",
   "metadata": {},
   "source": [
    "** Number of Seats data analizi"
   ]
  },
  {
   "cell_type": "code",
   "execution_count": 599,
   "metadata": {},
   "outputs": [
    {
     "data": {
      "text/plain": [
       "0        [\\n5\\n]\n",
       "1        [\\n4\\n]\n",
       "2        [\\n4\\n]\n",
       "3        [\\n4\\n]\n",
       "4        [\\n5\\n]\n",
       "          ...   \n",
       "15914    [\\n5\\n]\n",
       "15915    [\\n5\\n]\n",
       "15916    [\\n7\\n]\n",
       "15917    [\\n7\\n]\n",
       "15918    [\\n5\\n]\n",
       "Name: nr_of_seats, Length: 15919, dtype: object"
      ]
     },
     "execution_count": 599,
     "metadata": {},
     "output_type": "execute_result"
    }
   ],
   "source": [
    "df.nr_of_seats"
   ]
  },
  {
   "cell_type": "code",
   "execution_count": 600,
   "metadata": {},
   "outputs": [],
   "source": [
    "df['nr_of_seats'] = df['nr_of_seats'].str[0].str.strip('\\n').astype('float')\n",
    "# df['nr_of_seats'] = df['nr_of_seats'].astype(str).str[4]"
   ]
  },
  {
   "cell_type": "code",
   "execution_count": 601,
   "metadata": {},
   "outputs": [
    {
     "data": {
      "text/plain": [
       "dtype('float64')"
      ]
     },
     "execution_count": 601,
     "metadata": {},
     "output_type": "execute_result"
    }
   ],
   "source": [
    "df.nr_of_seats.dtype"
   ]
  },
  {
   "cell_type": "code",
   "execution_count": 602,
   "metadata": {},
   "outputs": [
    {
     "data": {
      "text/plain": [
       "5.000    13336\n",
       "4.000     1125\n",
       "NaN        977\n",
       "7.000      362\n",
       "2.000      116\n",
       "6.000        2\n",
       "3.000        1\n",
       "Name: nr_of_seats, dtype: int64"
      ]
     },
     "execution_count": 602,
     "metadata": {},
     "output_type": "execute_result"
    }
   ],
   "source": [
    "df['nr_of_seats'].value_counts(dropna=False)"
   ]
  },
  {
   "cell_type": "code",
   "execution_count": 603,
   "metadata": {},
   "outputs": [],
   "source": [
    "for group in list(df['make_model'].unique()):\n",
    "    cond = df['make_model'] == group\n",
    "    mode = list(df[cond]['nr_of_seats'].mode())\n",
    "    if mode != []:\n",
    "        df.loc[cond,'nr_of_seats'] = df.loc[cond,'nr_of_seats'].fillna(df[cond]['nr_of_seats'].mode()[0])\n",
    "    else:\n",
    "        df.loc[cond,'nr_of_seats'] = df.loc[cond,'nr_of_seats'].fillna(df['nr_of_seats'].mode()[0])\n",
    "\n",
    "# nan ları doldurdum"
   ]
  },
  {
   "cell_type": "code",
   "execution_count": 604,
   "metadata": {},
   "outputs": [
    {
     "data": {
      "text/plain": [
       "5.000    14313\n",
       "4.000     1125\n",
       "7.000      362\n",
       "2.000      116\n",
       "6.000        2\n",
       "3.000        1\n",
       "Name: nr_of_seats, dtype: int64"
      ]
     },
     "execution_count": 604,
     "metadata": {},
     "output_type": "execute_result"
    }
   ],
   "source": [
    "df['nr_of_seats'].value_counts(dropna=False)           # nan kalmadı"
   ]
  },
  {
   "cell_type": "code",
   "execution_count": null,
   "metadata": {},
   "outputs": [],
   "source": []
  },
  {
   "cell_type": "markdown",
   "metadata": {},
   "source": [
    "** Entertainment sütunu data analizi"
   ]
  },
  {
   "cell_type": "code",
   "execution_count": 414,
   "metadata": {},
   "outputs": [
    {
     "data": {
      "text/plain": [
       "0        [Bluetooth, Hands-free equipment, On-board com...\n",
       "1        [Bluetooth, Hands-free equipment, On-board com...\n",
       "2                                 [MP3, On-board computer]\n",
       "3        [Bluetooth, CD player, Hands-free equipment, M...\n",
       "4        [Bluetooth, CD player, Hands-free equipment, M...\n",
       "                               ...                        \n",
       "15914    [Bluetooth, Digital radio, Hands-free equipmen...\n",
       "15915    [Bluetooth, Digital radio, Hands-free equipmen...\n",
       "15916    [Bluetooth, Hands-free equipment, On-board com...\n",
       "15917               [Bluetooth, Digital radio, Radio, USB]\n",
       "15918                                                [USB]\n",
       "Name: entertainment_media, Length: 15919, dtype: object"
      ]
     },
     "execution_count": 414,
     "metadata": {},
     "output_type": "execute_result"
    }
   ],
   "source": [
    "df['entertainment_media']"
   ]
  },
  {
   "cell_type": "code",
   "execution_count": 416,
   "metadata": {},
   "outputs": [],
   "source": [
    "df[\"entertainment_media\"] = [\",\".join(item) if type(item) == list else item for item in df[\"entertainment_media\"]]\n",
    "\n",
    "# köşeli parantez(liste)den çıkardım."
   ]
  },
  {
   "cell_type": "code",
   "execution_count": 417,
   "metadata": {},
   "outputs": [
    {
     "data": {
      "text/plain": [
       "0        Bluetooth,Hands-free equipment,On-board comput...\n",
       "1        Bluetooth,Hands-free equipment,On-board comput...\n",
       "2                                    MP3,On-board computer\n",
       "3        Bluetooth,CD player,Hands-free equipment,MP3,O...\n",
       "4        Bluetooth,CD player,Hands-free equipment,MP3,O...\n",
       "                               ...                        \n",
       "15914    Bluetooth,Digital radio,Hands-free equipment,O...\n",
       "15915    Bluetooth,Digital radio,Hands-free equipment,R...\n",
       "15916    Bluetooth,Hands-free equipment,On-board comput...\n",
       "15917                    Bluetooth,Digital radio,Radio,USB\n",
       "15918                                                  USB\n",
       "Name: entertainment_media, Length: 15919, dtype: object"
      ]
     },
     "execution_count": 417,
     "metadata": {},
     "output_type": "execute_result"
    }
   ],
   "source": [
    "df.entertainment_media"
   ]
  },
  {
   "cell_type": "code",
   "execution_count": 418,
   "metadata": {},
   "outputs": [
    {
     "data": {
      "text/plain": [
       "NaN                                                                                                 1374\n",
       "Bluetooth,Hands-free equipment,On-board computer,Radio,USB                                          1282\n",
       "Bluetooth,Hands-free equipment,MP3,On-board computer,Radio,USB                                       982\n",
       "Bluetooth,CD player,Hands-free equipment,MP3,On-board computer,Radio,USB                             783\n",
       "On-board computer,Radio                                                                              487\n",
       "                                                                                                    ... \n",
       "Bluetooth,CD player,Digital radio,Hands-free equipment,Radio                                           1\n",
       "CD player,Hands-free equipment,MP3,Radio,USB                                                           1\n",
       "MP3,Radio,Sound system,USB                                                                             1\n",
       "Bluetooth,MP3,On-board computer,Radio,Television,USB                                                   1\n",
       "Bluetooth,CD player,Hands-free equipment,MP3,On-board computer,Radio,Sound system,Television,USB       1\n",
       "Name: entertainment_media, Length: 347, dtype: int64"
      ]
     },
     "execution_count": 418,
     "metadata": {},
     "output_type": "execute_result"
    }
   ],
   "source": [
    "df.entertainment_media.value_counts(dropna=False)"
   ]
  },
  {
   "cell_type": "code",
   "execution_count": 419,
   "metadata": {},
   "outputs": [],
   "source": [
    "# entertainment_media sütunundaki nan değerleri dolduran kod yazdık \n",
    "\n",
    "for group in list(df['make_model'].unique()):\n",
    "    cond = df['make_model'] == group\n",
    "    mode = list(df[cond]['entertainment_media'].mode())\n",
    "    if mode != []:\n",
    "        df.loc[cond,'entertainment_media'] = df.loc[cond,'entertainment_media'].fillna(df[cond]['entertainment_media'].mode()[0])\n",
    "    else:\n",
    "        df.loc[cond,'entertainment_media'] = df.loc[cond,'entertainment_media'].fillna(df['entertainment_media'].mode()[0])"
   ]
  },
  {
   "cell_type": "code",
   "execution_count": 420,
   "metadata": {},
   "outputs": [
    {
     "data": {
      "text/plain": [
       "0"
      ]
     },
     "execution_count": 420,
     "metadata": {},
     "output_type": "execute_result"
    }
   ],
   "source": [
    "df.entertainment_media.isnull().sum()      # entertainment_media sütununda nan kalmadı "
   ]
  },
  {
   "cell_type": "code",
   "execution_count": 605,
   "metadata": {},
   "outputs": [
    {
     "data": {
      "text/plain": [
       "Bluetooth,Hands-free equipment,On-board computer,Radio,USB                  2015\n",
       "Bluetooth,Hands-free equipment,MP3,On-board computer,Radio,USB              1206\n",
       "Bluetooth,CD player,Hands-free equipment,MP3,On-board computer,Radio,USB    1048\n",
       "Bluetooth,Hands-free equipment,On-board computer,Radio                       529\n",
       "On-board computer,Radio                                                      487\n",
       "                                                                            ... \n",
       "Bluetooth,CD player,MP3                                                        1\n",
       "CD player,USB                                                                  1\n",
       "Bluetooth,CD player,Digital radio,Radio,USB                                    1\n",
       "NaN                                                                            1\n",
       "Hands-free equipment,On-board computer,Radio,Sound system                      1\n",
       "Name: entertainment_media, Length: 347, dtype: int64"
      ]
     },
     "execution_count": 605,
     "metadata": {},
     "output_type": "execute_result"
    }
   ],
   "source": [
    "df.entertainment_media.value_counts(dropna=False)             # entertainment_media sütununda nan değerler koda uygun dağıldı, nan kalmadı"
   ]
  },
  {
   "cell_type": "code",
   "execution_count": null,
   "metadata": {},
   "outputs": [],
   "source": []
  },
  {
   "cell_type": "markdown",
   "metadata": {},
   "source": [
    "** Description sütunu data analizi"
   ]
  },
  {
   "cell_type": "code",
   "execution_count": 608,
   "metadata": {},
   "outputs": [],
   "source": [
    "df.description = scout_car.description        # hatalı işlem yapınca kopyadan geri getirdim."
   ]
  },
  {
   "cell_type": "code",
   "execution_count": 609,
   "metadata": {},
   "outputs": [
    {
     "data": {
      "text/plain": [
       "0        [\\n, Sicherheit:,  , Deaktivierung für Beifahr...\n",
       "1        [\\nLangstreckenfahrzeug daher die hohe Kilomet...\n",
       "2        [\\n, Fahrzeug-Nummer: AM-95365,  , Ehem. UPE 2...\n",
       "3        [\\nAudi A1: , - 1e eigenaar , - Perfecte staat...\n",
       "4        [\\n, Technik & Sicherheit:, Xenon plus, Klimaa...\n",
       "                               ...                        \n",
       "15914    [\\nVettura visionabile nella sede in Via Roma ...\n",
       "15915    [\\nDach: Panorama-Glas-Schiebedach, Lackierung...\n",
       "15916    [\\n, Getriebe:,  Automatik, Technik:,  Bordcom...\n",
       "15917    [\\nDEK:[2691331], Renault Espace Blue dCi 200C...\n",
       "15918    [\\n, Sicherheit Airbags:,  , Seitenairbag,  , ...\n",
       "Name: description, Length: 15919, dtype: object"
      ]
     },
     "execution_count": 609,
     "metadata": {},
     "output_type": "execute_result"
    }
   ],
   "source": [
    "df.description"
   ]
  },
  {
   "cell_type": "code",
   "execution_count": 610,
   "metadata": {},
   "outputs": [
    {
     "data": {
      "text/plain": [
       "0"
      ]
     },
     "execution_count": 610,
     "metadata": {},
     "output_type": "execute_result"
    }
   ],
   "source": [
    "df.description.isnull().sum()"
   ]
  },
  {
   "cell_type": "code",
   "execution_count": null,
   "metadata": {},
   "outputs": [],
   "source": [
    "df.description.astype('str').value_counts(dropna=False)   "
   ]
  },
  {
   "cell_type": "code",
   "execution_count": null,
   "metadata": {},
   "outputs": [],
   "source": [
    "# Karışık, farklı dillerde çok sayıda veri var. Ancak bunlar diğer sütunlarda var, ihtiyaç yok. Düşürelim."
   ]
  },
  {
   "cell_type": "code",
   "execution_count": 292,
   "metadata": {},
   "outputs": [],
   "source": [
    "# df.drop(\"description\", axis=1, inplace=True)"
   ]
  },
  {
   "cell_type": "code",
   "execution_count": null,
   "metadata": {},
   "outputs": [],
   "source": []
  },
  {
   "cell_type": "markdown",
   "metadata": {},
   "source": [
    "** Warranty sütunu data analizi"
   ]
  },
  {
   "cell_type": "code",
   "execution_count": null,
   "metadata": {},
   "outputs": [],
   "source": [
    "df['Warranty']"
   ]
  },
  {
   "cell_type": "code",
   "execution_count": 257,
   "metadata": {},
   "outputs": [],
   "source": [
    "df.rename(columns = {'Warranty':'warranty_months'}, inplace = True)"
   ]
  },
  {
   "cell_type": "code",
   "execution_count": 262,
   "metadata": {},
   "outputs": [
    {
     "data": {
      "text/plain": [
       "5420"
      ]
     },
     "execution_count": 262,
     "metadata": {},
     "output_type": "execute_result"
    }
   ],
   "source": [
    "df.warranty.isnull().sum()"
   ]
  },
  {
   "cell_type": "code",
   "execution_count": 267,
   "metadata": {},
   "outputs": [
    {
     "data": {
      "text/plain": [
       "0                      [\\n, \\n, \\n4 (Green)\\n]\n",
       "1                                          NaN\n",
       "2             [\\n, \\n, \\n99 g CO2/km (comb)\\n]\n",
       "3                                          NaN\n",
       "4                         [\\n, \\n, \\nEuro 6\\n]\n",
       "5                                          NaN\n",
       "6                                          NaN\n",
       "7                         [\\n, \\n, \\nEuro 6\\n]\n",
       "8                  [\\n12 months\\n, \\nEuro 6\\n]\n",
       "9                                 \\n3 months\\n\n",
       "10                                         NaN\n",
       "11                        [\\n, \\n, \\nEuro 6\\n]\n",
       "12                        [\\n, \\n, \\nEuro 6\\n]\n",
       "13                               \\n12 months\\n\n",
       "14                                         NaN\n",
       "15                 [\\n12 months\\n, \\nEuro 6\\n]\n",
       "16                                         NaN\n",
       "17                                         NaN\n",
       "18     [\\n6 months\\n, \\n103 g CO2/km (comb)\\n]\n",
       "19                                          \\n\n",
       "20    [\\n12 months\\n, \\n105 g CO2/km (comb)\\n]\n",
       "21    [\\n12 months\\n, \\n112 g CO2/km (comb)\\n]\n",
       "22                                    [\\n, \\n]\n",
       "23                                          \\n\n",
       "24                                         NaN\n",
       "25                                         NaN\n",
       "26                        [\\n, \\n, \\nEuro 6\\n]\n",
       "27                                         NaN\n",
       "28                                         NaN\n",
       "29                                         NaN\n",
       "Name: warranty, dtype: object"
      ]
     },
     "execution_count": 267,
     "metadata": {},
     "output_type": "execute_result"
    }
   ],
   "source": [
    "df.warranty.head(30)"
   ]
  },
  {
   "cell_type": "code",
   "execution_count": 268,
   "metadata": {},
   "outputs": [
    {
     "data": {
      "text/html": [
       "<div>\n",
       "<style scoped>\n",
       "    .dataframe tbody tr th:only-of-type {\n",
       "        vertical-align: middle;\n",
       "    }\n",
       "\n",
       "    .dataframe tbody tr th {\n",
       "        vertical-align: top;\n",
       "    }\n",
       "\n",
       "    .dataframe thead th {\n",
       "        text-align: right;\n",
       "    }\n",
       "</style>\n",
       "<table border=\"1\" class=\"dataframe\">\n",
       "  <thead>\n",
       "    <tr style=\"text-align: right;\">\n",
       "      <th></th>\n",
       "      <th>0</th>\n",
       "    </tr>\n",
       "  </thead>\n",
       "  <tbody>\n",
       "    <tr>\n",
       "      <th>0</th>\n",
       "      <td>NaN</td>\n",
       "    </tr>\n",
       "    <tr>\n",
       "      <th>1</th>\n",
       "      <td>NaN</td>\n",
       "    </tr>\n",
       "    <tr>\n",
       "      <th>2</th>\n",
       "      <td>NaN</td>\n",
       "    </tr>\n",
       "    <tr>\n",
       "      <th>3</th>\n",
       "      <td>NaN</td>\n",
       "    </tr>\n",
       "    <tr>\n",
       "      <th>4</th>\n",
       "      <td>NaN</td>\n",
       "    </tr>\n",
       "    <tr>\n",
       "      <th>5</th>\n",
       "      <td>NaN</td>\n",
       "    </tr>\n",
       "    <tr>\n",
       "      <th>6</th>\n",
       "      <td>NaN</td>\n",
       "    </tr>\n",
       "    <tr>\n",
       "      <th>7</th>\n",
       "      <td>NaN</td>\n",
       "    </tr>\n",
       "    <tr>\n",
       "      <th>8</th>\n",
       "      <td>NaN</td>\n",
       "    </tr>\n",
       "    <tr>\n",
       "      <th>9</th>\n",
       "      <td>3 months</td>\n",
       "    </tr>\n",
       "    <tr>\n",
       "      <th>10</th>\n",
       "      <td>NaN</td>\n",
       "    </tr>\n",
       "    <tr>\n",
       "      <th>11</th>\n",
       "      <td>NaN</td>\n",
       "    </tr>\n",
       "    <tr>\n",
       "      <th>12</th>\n",
       "      <td>NaN</td>\n",
       "    </tr>\n",
       "    <tr>\n",
       "      <th>13</th>\n",
       "      <td>12 months</td>\n",
       "    </tr>\n",
       "    <tr>\n",
       "      <th>14</th>\n",
       "      <td>NaN</td>\n",
       "    </tr>\n",
       "    <tr>\n",
       "      <th>15</th>\n",
       "      <td>NaN</td>\n",
       "    </tr>\n",
       "    <tr>\n",
       "      <th>16</th>\n",
       "      <td>NaN</td>\n",
       "    </tr>\n",
       "    <tr>\n",
       "      <th>17</th>\n",
       "      <td>NaN</td>\n",
       "    </tr>\n",
       "    <tr>\n",
       "      <th>18</th>\n",
       "      <td>NaN</td>\n",
       "    </tr>\n",
       "    <tr>\n",
       "      <th>19</th>\n",
       "      <td>NaN</td>\n",
       "    </tr>\n",
       "    <tr>\n",
       "      <th>20</th>\n",
       "      <td>NaN</td>\n",
       "    </tr>\n",
       "    <tr>\n",
       "      <th>21</th>\n",
       "      <td>NaN</td>\n",
       "    </tr>\n",
       "    <tr>\n",
       "      <th>22</th>\n",
       "      <td>NaN</td>\n",
       "    </tr>\n",
       "    <tr>\n",
       "      <th>23</th>\n",
       "      <td>NaN</td>\n",
       "    </tr>\n",
       "    <tr>\n",
       "      <th>24</th>\n",
       "      <td>NaN</td>\n",
       "    </tr>\n",
       "    <tr>\n",
       "      <th>25</th>\n",
       "      <td>NaN</td>\n",
       "    </tr>\n",
       "    <tr>\n",
       "      <th>26</th>\n",
       "      <td>NaN</td>\n",
       "    </tr>\n",
       "    <tr>\n",
       "      <th>27</th>\n",
       "      <td>NaN</td>\n",
       "    </tr>\n",
       "    <tr>\n",
       "      <th>28</th>\n",
       "      <td>NaN</td>\n",
       "    </tr>\n",
       "    <tr>\n",
       "      <th>29</th>\n",
       "      <td>NaN</td>\n",
       "    </tr>\n",
       "  </tbody>\n",
       "</table>\n",
       "</div>"
      ],
      "text/plain": [
       "            0\n",
       "0         NaN\n",
       "1         NaN\n",
       "2         NaN\n",
       "3         NaN\n",
       "4         NaN\n",
       "5         NaN\n",
       "6         NaN\n",
       "7         NaN\n",
       "8         NaN\n",
       "9    3 months\n",
       "10        NaN\n",
       "11        NaN\n",
       "12        NaN\n",
       "13  12 months\n",
       "14        NaN\n",
       "15        NaN\n",
       "16        NaN\n",
       "17        NaN\n",
       "18        NaN\n",
       "19        NaN\n",
       "20        NaN\n",
       "21        NaN\n",
       "22        NaN\n",
       "23        NaN\n",
       "24        NaN\n",
       "25        NaN\n",
       "26        NaN\n",
       "27        NaN\n",
       "28        NaN\n",
       "29        NaN"
      ]
     },
     "execution_count": 268,
     "metadata": {},
     "output_type": "execute_result"
    }
   ],
   "source": [
    "df.warranty.str.extract('(\\d\\d months|\\d months)').head(30)"
   ]
  },
  {
   "cell_type": "code",
   "execution_count": 273,
   "metadata": {},
   "outputs": [
    {
     "data": {
      "text/plain": [
       "0    2057\n",
       "dtype: int64"
      ]
     },
     "execution_count": 273,
     "metadata": {},
     "output_type": "execute_result"
    }
   ],
   "source": [
    "df.warranty.str.extract('(months)').count()              # içinde sadece months yzanları saydırdım"
   ]
  },
  {
   "cell_type": "code",
   "execution_count": 271,
   "metadata": {},
   "outputs": [
    {
     "data": {
      "text/plain": [
       "0    2057\n",
       "dtype: int64"
      ]
     },
     "execution_count": 271,
     "metadata": {},
     "output_type": "execute_result"
    }
   ],
   "source": [
    "df.warranty.str.extract('(\\d\\d months|\\d months)').count()                # yanında rakam yazan monthsları saydırdım"
   ]
  },
  {
   "cell_type": "code",
   "execution_count": 274,
   "metadata": {},
   "outputs": [],
   "source": [
    "# df.warranty = df.warranty.str.extract('(\\d\\d months|\\d months)')      # bu monthlar ile birlikte çıkarıyor"
   ]
  },
  {
   "cell_type": "code",
   "execution_count": 277,
   "metadata": {},
   "outputs": [],
   "source": [
    "df.warranty = df.warranty.str.extract('(\\d\\d | \\d)')                   # sadece rakamları çıkardım  "
   ]
  },
  {
   "cell_type": "code",
   "execution_count": 278,
   "metadata": {},
   "outputs": [
    {
     "data": {
      "text/plain": [
       "0        NaN\n",
       "1        NaN\n",
       "2        NaN\n",
       "3        NaN\n",
       "4        NaN\n",
       "        ... \n",
       "15914    24 \n",
       "15915    NaN\n",
       "15916    NaN\n",
       "15917    NaN\n",
       "15918    NaN\n",
       "Name: warranty, Length: 15919, dtype: object"
      ]
     },
     "execution_count": 278,
     "metadata": {},
     "output_type": "execute_result"
    }
   ],
   "source": [
    "df.warranty"
   ]
  },
  {
   "cell_type": "code",
   "execution_count": 615,
   "metadata": {},
   "outputs": [
    {
     "data": {
      "text/plain": [
       "NaN    13965\n",
       "12      1177\n",
       "24       566\n",
       "48       109\n",
       "36        56\n",
       "60        19\n",
       "72        15\n",
       "18         3\n",
       "19         2\n",
       "26         2\n",
       "28         1\n",
       "13         1\n",
       "30         1\n",
       "23         1\n",
       "25         1\n",
       "Name: warranty, dtype: int64"
      ]
     },
     "execution_count": 615,
     "metadata": {},
     "output_type": "execute_result"
    }
   ],
   "source": [
    "df.warranty.value_counts(dropna=False)                   # çok sayıda nan değeri var ama her aracın garantisi olmak zorunda değil"
   ]
  },
  {
   "cell_type": "code",
   "execution_count": null,
   "metadata": {},
   "outputs": [],
   "source": []
  },
  {
   "cell_type": "markdown",
   "metadata": {},
   "source": [
    "!! Silinecek iki sütunum vardı:"
   ]
  },
  {
   "cell_type": "code",
   "execution_count": null,
   "metadata": {},
   "outputs": [],
   "source": [
    "# drop_columns  = ['Last Service Date', 'Last Timing Belt Service Date']\n",
    "# df.drop(drop_columns, axis=1, inplace=True)"
   ]
  }
 ],
 "metadata": {
  "kernelspec": {
   "display_name": "Python 3",
   "language": "python",
   "name": "python3"
  },
  "language_info": {
   "codemirror_mode": {
    "name": "ipython",
    "version": 3
   },
   "file_extension": ".py",
   "mimetype": "text/x-python",
   "name": "python",
   "nbconvert_exporter": "python",
   "pygments_lexer": "ipython3",
   "version": "3.9.7"
  }
 },
 "nbformat": 4,
 "nbformat_minor": 4
}
